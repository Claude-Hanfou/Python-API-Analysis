{
 "cells": [
  {
   "cell_type": "markdown",
   "metadata": {},
   "source": [
    "# WeatherPy\n",
    "----\n",
    "\n",
    "#### Note\n",
    "* Instructions have been included for each segment. You do not have to follow them exactly, but they are included to help you think through the steps."
   ]
  },
  {
   "cell_type": "code",
   "execution_count": 77,
   "metadata": {
    "scrolled": true
   },
   "outputs": [],
   "source": [
    "# Dependencies and Setup\n",
    "import matplotlib.pyplot as plt\n",
    "import pandas as pd\n",
    "import numpy as np\n",
    "import requests\n",
    "import time\n",
    "from scipy.stats import linregress\n",
    "\n",
    "# Import API key\n",
    "from api_keys import weather_api_key\n",
    "\n",
    "# Incorporated citipy to determine city based on latitude and longitude\n",
    "from citipy import citipy\n",
    "\n",
    "# Output File (CSV)\n",
    "output_data_file = \"output_data/cities.csv\"\n",
    "\n",
    "# Range of latitudes and longitudes\n",
    "lat_range = (-90, 90)\n",
    "lng_range = (-180, 180)"
   ]
  },
  {
   "cell_type": "markdown",
   "metadata": {},
   "source": [
    "## Generate Cities List"
   ]
  },
  {
   "cell_type": "code",
   "execution_count": 78,
   "metadata": {},
   "outputs": [
    {
     "data": {
      "text/plain": [
       "602"
      ]
     },
     "execution_count": 78,
     "metadata": {},
     "output_type": "execute_result"
    }
   ],
   "source": [
    "# List for holding lat_lngs and cities\n",
    "lat_lngs = []\n",
    "cities = []\n",
    "\n",
    "# Create a set of random lat and lng combinations\n",
    "lats = np.random.uniform(lat_range[0], lat_range[1], size=1500)\n",
    "lngs = np.random.uniform(lng_range[0], lng_range[1], size=1500)\n",
    "lat_lngs = zip(lats, lngs)\n",
    "\n",
    "# Identify nearest city for each lat, lng combination\n",
    "for lat_lng in lat_lngs:\n",
    "    city = citipy.nearest_city(lat_lng[0], lat_lng[1]).city_name\n",
    "    \n",
    "    # If the city is unique, then add it to a our cities list\n",
    "    if city not in cities:\n",
    "        cities.append(city)\n",
    "\n",
    "# Print the city count to confirm sufficient count\n",
    "len(cities)"
   ]
  },
  {
   "cell_type": "markdown",
   "metadata": {},
   "source": [
    "### Perform API Calls\n",
    "* Perform a weather check on each city using a series of successive API calls.\n",
    "* Include a print log of each city as it'sbeing processed (with the city number and city name).\n"
   ]
  },
  {
   "cell_type": "code",
   "execution_count": 116,
   "metadata": {},
   "outputs": [
    {
     "name": "stdout",
     "output_type": "stream",
     "text": [
      "Processing Record 1  | Maumere.\n",
      "Processing Record 2  | Tamandaré.\n",
      "Processing Record 3  | Gaziantep.\n",
      "Processing Record 4  | Ciudad Bolivar.\n",
      "Processing Record 5  | Hermanus.\n",
      "Processing Record 6  | Batagay.\n",
      "Processing Record 7  | Saint Paul Harbor.\n",
      "City not found. Skipping...\n",
      "Processing Record 9  | Busselton.\n",
      "Processing Record 10  | Rikitea.\n",
      "Processing Record 11  | Octeville.\n",
      "Processing Record 12  | Buraidah.\n",
      "Processing Record 13  | Vaini.\n",
      "Processing Record 14  | Avarua.\n",
      "Processing Record 15  | Oktyabr'skiy.\n",
      "Processing Record 16  | El Porvenir.\n",
      "Processing Record 17  | Kutum.\n",
      "Processing Record 18  | Norman Wells.\n",
      "Processing Record 19  | Punta Arenas.\n",
      "Processing Record 20  | Hobart.\n",
      "Processing Record 21  | Hay River.\n",
      "Processing Record 22  | Ostrovnoy.\n",
      "Processing Record 23  | Esperance.\n",
      "Processing Record 24  | Woodward.\n",
      "Processing Record 25  | Carutapera.\n",
      "Processing Record 26  | Sol'-Iletsk.\n",
      "Processing Record 27  | Talcahuano.\n",
      "Processing Record 28  | Chui.\n",
      "Processing Record 29  | Carnarvon.\n",
      "Processing Record 30  | Pringsewu.\n",
      "Processing Record 31  | Yar-Sale.\n",
      "Processing Record 32  | Mataura.\n",
      "Processing Record 33  | Ushuaia.\n",
      "Processing Record 34  | Jamestown.\n",
      "Processing Record 35  | Ancud.\n",
      "City not found. Skipping...\n",
      "Processing Record 37  | Borgosesia.\n",
      "Processing Record 38  | Yalutorovsk.\n",
      "Processing Record 39  | Snåase.\n",
      "Processing Record 40  | Rypefjord.\n",
      "Processing Record 41  | Yulara.\n",
      "Processing Record 42  | Hualmay.\n",
      "Processing Record 43  | Cape Town.\n",
      "Processing Record 44  | Maţāy.\n",
      "Processing Record 45  | Bluff.\n",
      "Processing Record 46  | Provideniya.\n",
      "Processing Record 47  | Comodoro Rivadavia.\n",
      "Processing Record 48  | Upernavik.\n",
      "Processing Record 49  | Puerto Ayora.\n",
      "Processing Record 50  | Vila Velha.\n",
      "Processing Record 51  | Mishkino.\n",
      "Processing Record 52  | Yellowknife.\n",
      "Processing Record 53  | Camocim.\n",
      "Processing Record 54  | Rudersdorf.\n",
      "City not found. Skipping...\n",
      "Processing Record 56  | Oranjemund.\n",
      "Processing Record 57  | Pudozh.\n",
      "Processing Record 58  | Grand-Lahou.\n",
      "Processing Record 59  | Tuktoyaktuk.\n",
      "Processing Record 60  | Hambantota.\n",
      "Processing Record 61  | Jangaon.\n",
      "Processing Record 62  | Metro.\n",
      "Processing Record 63  | Jieshi.\n",
      "Processing Record 64  | Bredasdorp.\n",
      "Processing Record 65  | Ilulissat.\n",
      "Processing Record 66  | Port Elizabeth.\n",
      "Processing Record 67  | Dmitriyevka.\n",
      "Processing Record 68  | Acapulco de Juárez.\n",
      "Processing Record 69  | Kapaa.\n",
      "Processing Record 70  | Bengkulu.\n",
      "Processing Record 71  | Ribeira Grande.\n",
      "Processing Record 72  | Maragogi.\n",
      "Processing Record 73  | East London.\n",
      "Processing Record 74  | Arraial do Cabo.\n",
      "Processing Record 75  | Okitipupa.\n",
      "Processing Record 76  | Atuona.\n",
      "Processing Record 77  | Mar del Plata.\n",
      "Processing Record 78  | Bilibino.\n",
      "Processing Record 79  | Lebu.\n",
      "Processing Record 80  | Mahébourg.\n",
      "Processing Record 81  | Port Alfred.\n",
      "Processing Record 82  | Inhambane.\n",
      "Processing Record 83  | Hasaki.\n",
      "Processing Record 84  | Airai.\n",
      "Processing Record 85  | Ibirama.\n",
      "Processing Record 86  | Eyl.\n",
      "Processing Record 87  | Alangāyam.\n",
      "Processing Record 88  | Biloela.\n",
      "Processing Record 89  | Cabo San Lucas.\n",
      "City not found. Skipping...\n",
      "Processing Record 91  | Koumac.\n",
      "Processing Record 92  | São Filipe.\n",
      "Processing Record 93  | Doha.\n",
      "City not found. Skipping...\n",
      "City not found. Skipping...\n",
      "Processing Record 96  | Eureka.\n",
      "Processing Record 97  | Montreal.\n",
      "Processing Record 98  | Whyalla.\n",
      "Processing Record 99  | Kimbe.\n",
      "Processing Record 100  | Halden.\n",
      "Processing Record 101  | Saint Anthony.\n",
      "Processing Record 102  | Sampit.\n",
      "Processing Record 103  | Albany.\n",
      "Processing Record 104  | Castro.\n",
      "Processing Record 105  | Qaanaaq.\n",
      "Processing Record 106  | George Town.\n",
      "Processing Record 107  | Gravdal.\n",
      "Processing Record 108  | Los Llanos de Aridane.\n",
      "Processing Record 109  | Longyearbyen.\n",
      "Processing Record 110  | Aksu.\n",
      "Processing Record 111  | Klaksvík.\n",
      "Processing Record 112  | Half Moon Bay.\n",
      "Processing Record 113  | Husavik.\n",
      "City not found. Skipping...\n",
      "Processing Record 115  | Havøysund.\n",
      "Processing Record 116  | Dikson.\n",
      "Processing Record 117  | Laas.\n",
      "Processing Record 118  | Camopi.\n",
      "Processing Record 119  | Matipó.\n",
      "Processing Record 120  | Hirara.\n",
      "Processing Record 121  | Hong Kong.\n",
      "Processing Record 122  | Tuatapere.\n",
      "Processing Record 123  | Mahanoro.\n",
      "Processing Record 124  | Ambilobe.\n",
      "Processing Record 125  | Yangi Marg`ilon.\n",
      "Processing Record 126  | Kurchum.\n",
      "Processing Record 127  | Tochimilco.\n",
      "Processing Record 128  | Sur.\n",
      "City not found. Skipping...\n",
      "Processing Record 130  | Luleå.\n",
      "Processing Record 131  | Botwood.\n",
      "Processing Record 132  | Westport.\n",
      "Processing Record 133  | Leningradskiy.\n",
      "Processing Record 134  | Clarence Town.\n",
      "Processing Record 135  | Talnakh.\n",
      "Processing Record 136  | Olafsvik.\n",
      "Processing Record 137  | Harstad.\n",
      "Processing Record 138  | Maniitsoq.\n",
      "Processing Record 139  | Zliten.\n",
      "Processing Record 140  | Ponta do Sol.\n",
      "Processing Record 141  | Tomatlán.\n",
      "Processing Record 142  | Severo-Kuril'sk.\n",
      "Processing Record 143  | Barrow.\n",
      "Processing Record 144  | Okha.\n",
      "Processing Record 145  | Omboué.\n",
      "Processing Record 146  | Dudinka.\n",
      "Processing Record 147  | Arman'.\n",
      "Processing Record 148  | Nikolskoye.\n",
      "Processing Record 149  | Alofi.\n",
      "Processing Record 150  | Muravlenko.\n",
      "Processing Record 151  | Tiksi.\n",
      "City not found. Skipping...\n",
      "City not found. Skipping...\n",
      "Processing Record 154  | Kahului.\n",
      "Processing Record 155  | Vostok.\n",
      "Processing Record 156  | Puerto Madero.\n",
      "Processing Record 157  | Nyurba.\n",
      "Processing Record 158  | Mayo.\n",
      "Processing Record 159  | Bayevo.\n",
      "Processing Record 160  | Mariinsk.\n",
      "City not found. Skipping...\n",
      "Processing Record 162  | Rome.\n",
      "Processing Record 163  | Shelton.\n",
      "Processing Record 164  | Beringovskiy.\n",
      "Processing Record 165  | Shihezi.\n",
      "Processing Record 166  | Lavrentiya.\n",
      "Processing Record 167  | Bambous Virieux.\n",
      "Processing Record 168  | Nyrob.\n",
      "Processing Record 169  | Mirny.\n",
      "Processing Record 170  | San Patricio.\n",
      "Processing Record 171  | Lagoa Santa.\n",
      "Processing Record 172  | Ikom.\n",
      "Processing Record 173  | Itoman.\n",
      "Processing Record 174  | Gambēla.\n",
      "Processing Record 175  | Celestún.\n",
      "Processing Record 176  | Kindu.\n",
      "Processing Record 177  | Mossamedes.\n",
      "Processing Record 178  | Zeya.\n",
      "Processing Record 179  | Narrabri.\n",
      "Processing Record 180  | Bulgan.\n",
      "City not found. Skipping...\n",
      "Processing Record 182  | Yerbogachën.\n",
      "Processing Record 183  | Fortuna.\n",
      "City not found. Skipping...\n",
      "Processing Record 185  | Cherskiy.\n",
      "Processing Record 186  | Lambaréné.\n",
      "Processing Record 187  | Coyhaique.\n",
      "Processing Record 188  | Tessalit.\n",
      "Processing Record 189  | Kavieng.\n",
      "Processing Record 190  | Ahipara.\n",
      "Processing Record 191  | Bathsheba.\n",
      "Processing Record 192  | Esso.\n",
      "City not found. Skipping...\n",
      "Processing Record 194  | Luwuk.\n",
      "Processing Record 195  | New Norfolk.\n",
      "City not found. Skipping...\n",
      "Processing Record 197  | Saint-Philippe.\n",
      "Processing Record 198  | Bridgetown.\n",
      "Processing Record 199  | Čelinac.\n",
      "Processing Record 200  | Kenora.\n",
      "Processing Record 201  | Atchison.\n",
      "Processing Record 202  | Puerto Rico.\n",
      "Processing Record 203  | Bethel.\n",
      "Processing Record 204  | Al Bardīyah.\n",
      "Processing Record 205  | Chokurdakh.\n",
      "Processing Record 206  | Sola.\n",
      "Processing Record 207  | Tura.\n",
      "Processing Record 208  | Rechka Vydrino.\n",
      "Processing Record 209  | Moerai.\n",
      "Processing Record 210  | Waingapu.\n",
      "City not found. Skipping...\n",
      "Processing Record 212  | North Bend.\n",
      "Processing Record 213  | Tasiilaq.\n",
      "Processing Record 214  | Ituango.\n",
      "Processing Record 215  | Verkhnyaya Sysert’.\n",
      "Processing Record 216  | Korla.\n",
      "Processing Record 217  | Poronaysk.\n",
      "Processing Record 218  | Popondetta.\n",
      "City not found. Skipping...\n",
      "Processing Record 220  | Elizabeth City.\n",
      "Processing Record 221  | Atar.\n",
      "Processing Record 222  | Saint George.\n",
      "Processing Record 223  | Kawalu.\n",
      "Processing Record 224  | Torbay.\n",
      "City not found. Skipping...\n",
      "City not found. Skipping...\n",
      "Processing Record 227  | Weiser.\n",
      "Processing Record 228  | Lata.\n",
      "Processing Record 229  | Kapoeta.\n",
      "Processing Record 230  | Byron Bay.\n",
      "Processing Record 231  | Innisfail.\n",
      "Processing Record 232  | Bani Walid.\n",
      "Processing Record 233  | Galle.\n",
      "Processing Record 234  | Sagara.\n",
      "Processing Record 235  | Kyzyl-Suu.\n",
      "Processing Record 236  | Plettenberg Bay.\n",
      "Processing Record 237  | Saurimo.\n",
      "Processing Record 238  | Rāmhormoz.\n",
      "Processing Record 239  | Broken Hill.\n"
     ]
    },
    {
     "name": "stdout",
     "output_type": "stream",
     "text": [
      "City not found. Skipping...\n",
      "Processing Record 241  | La Ronge.\n",
      "Processing Record 242  | Thompson.\n",
      "Processing Record 243  | Pedernales.\n",
      "Processing Record 244  | Poltavka.\n",
      "Processing Record 245  | Acajutla.\n",
      "Processing Record 246  | Barra de Tecoanapa.\n",
      "Processing Record 247  | Seydi.\n",
      "Processing Record 248  | Ixtapa.\n",
      "Processing Record 249  | Dunedin.\n",
      "Processing Record 250  | Bátya.\n",
      "Processing Record 251  | Chaniotis.\n",
      "Processing Record 252  | Yurimaguas.\n",
      "Processing Record 253  | Nuuk.\n",
      "Processing Record 254  | Ingham.\n",
      "Processing Record 255  | Ilfracombe.\n",
      "City not found. Skipping...\n",
      "Processing Record 257  | Prome.\n",
      "Processing Record 258  | Saskylakh.\n",
      "Processing Record 259  | Hilo.\n",
      "Processing Record 260  | Katherine.\n",
      "Processing Record 261  | Williams Lake.\n",
      "Processing Record 262  | Kaitangata.\n",
      "Processing Record 263  | Strezhevoy.\n",
      "City not found. Skipping...\n",
      "Processing Record 265  | Buchanan.\n",
      "Processing Record 266  | Clyde River.\n",
      "Processing Record 267  | Port Hardy.\n",
      "Processing Record 268  | Avera.\n",
      "Processing Record 269  | Hamilton.\n",
      "Processing Record 270  | Khovd.\n",
      "Processing Record 271  | Haines Junction.\n",
      "City not found. Skipping...\n",
      "Processing Record 273  | Saint-Michel-des-Saints.\n",
      "Processing Record 274  | Prince Rupert.\n",
      "Processing Record 275  | Jamame.\n",
      "Processing Record 276  | Port Blair.\n",
      "Processing Record 277  | Dormidontovka.\n",
      "City not found. Skipping...\n",
      "Processing Record 279  | Bilma.\n",
      "Processing Record 280  | Narsaq.\n",
      "Processing Record 281  | Butaritari.\n",
      "Processing Record 282  | Pevek.\n",
      "Processing Record 283  | Kirakira.\n",
      "Processing Record 284  | Faya.\n",
      "Processing Record 285  | Puerto Madryn.\n",
      "Processing Record 286  | Mundo Nuevo (Ojo de Agua).\n",
      "Processing Record 287  | Darhan.\n",
      "Processing Record 288  | Cayenne.\n",
      "Processing Record 289  | Mkushi.\n",
      "Processing Record 290  | Alice Springs.\n",
      "Processing Record 291  | Caravelas.\n",
      "Processing Record 292  | Cotonou.\n",
      "Processing Record 293  | Nanortalik.\n",
      "Processing Record 294  | Isangel.\n",
      "Processing Record 295  | Ust-Kuyga.\n",
      "City not found. Skipping...\n",
      "Processing Record 297  | Pacific Grove.\n",
      "Processing Record 298  | Rudnaya Pristan'.\n",
      "City not found. Skipping...\n",
      "Processing Record 300  | Taoudenni.\n",
      "Processing Record 301  | Sulphur.\n",
      "Processing Record 302  | Biskamzha.\n",
      "Processing Record 303  | Staroshcherbinovskaya.\n",
      "City not found. Skipping...\n",
      "Processing Record 305  | Aklavik.\n",
      "Processing Record 306  | Zhigansk.\n",
      "Processing Record 307  | Arlit.\n",
      "Processing Record 308  | Entre Rios.\n",
      "Processing Record 309  | Laguna.\n",
      "Processing Record 310  | Yarim.\n",
      "Processing Record 311  | Itanagar.\n",
      "Processing Record 312  | Cockburn Town.\n",
      "Processing Record 313  | Tahe.\n",
      "Processing Record 314  | Berlevåg.\n",
      "Processing Record 315  | Abbeville.\n",
      "Processing Record 316  | Glyadyanskoye.\n",
      "Processing Record 317  | Vardø.\n",
      "Processing Record 318  | Vanavara.\n",
      "Processing Record 319  | Qasigiannguit.\n",
      "Processing Record 320  | Lander.\n",
      "Processing Record 321  | Chengde.\n",
      "Processing Record 322  | Souillac.\n",
      "Processing Record 323  | Evensk.\n",
      "Processing Record 324  | Deputatsky.\n",
      "City not found. Skipping...\n",
      "Processing Record 326  | Aktash.\n",
      "Processing Record 327  | Looc.\n",
      "Processing Record 328  | Kumbhrāj.\n",
      "Processing Record 329  | Orlik.\n",
      "Processing Record 330  | Hearst.\n",
      "Processing Record 331  | Grand-Santi.\n",
      "Processing Record 332  | Lubango.\n",
      "Processing Record 333  | Hithadhoo.\n",
      "Processing Record 334  | Bonavista.\n",
      "Processing Record 335  | Bebedouro.\n",
      "Processing Record 336  | Shellbrook.\n",
      "City not found. Skipping...\n",
      "Processing Record 338  | Astoria.\n",
      "Processing Record 339  | Awjilah.\n",
      "Processing Record 340  | Nikolaevo.\n",
      "Processing Record 341  | Ambon City.\n",
      "Processing Record 342  | Cabedelo.\n",
      "Processing Record 343  | Buala.\n",
      "Processing Record 344  | Kiryat Gat.\n",
      "Processing Record 345  | Ordynskoye.\n",
      "Processing Record 346  | Krasnoyarskiy.\n",
      "Processing Record 347  | Santa Cruz de La Palma.\n",
      "Processing Record 348  | Vallenar.\n",
      "Processing Record 349  | Cunha.\n",
      "Processing Record 350  | San Cristobal.\n",
      "Processing Record 351  | Katsuura.\n",
      "Processing Record 352  | Kavaratti.\n",
      "Processing Record 353  | Quatre Cocos.\n",
      "Processing Record 354  | Arrondissement d'Ajaccio.\n",
      "Processing Record 355  | Ilhabela.\n",
      "Processing Record 356  | Nhulunbuy.\n",
      "Processing Record 357  | Jacareacanga.\n",
      "Processing Record 358  | Machalí.\n",
      "Processing Record 359  | Pisco.\n",
      "City not found. Skipping...\n",
      "Processing Record 361  | Porto-Novo.\n",
      "Processing Record 362  | Kosai.\n",
      "Processing Record 363  | Itarema.\n",
      "Processing Record 364  | Flinders.\n",
      "Processing Record 365  | Ryazhsk.\n",
      "Processing Record 366  | Senneterre.\n",
      "Processing Record 367  | Nsanje.\n",
      "Processing Record 368  | La Palma.\n",
      "Processing Record 369  | Gusevskiy.\n",
      "Processing Record 370  | Khandyga.\n",
      "Processing Record 371  | Sungai Raya.\n",
      "City not found. Skipping...\n",
      "Processing Record 373  | Solnechnyy.\n",
      "Processing Record 374  | Sikonge.\n",
      "Processing Record 375  | Erzin.\n",
      "City not found. Skipping...\n",
      "Processing Record 377  | Leshukonskoye.\n",
      "Processing Record 378  | Staryy Nadym.\n",
      "Processing Record 379  | Demir Kapija.\n",
      "Processing Record 380  | Sitka.\n",
      "Processing Record 381  | Anzhero-Sudzhensk.\n",
      "Processing Record 382  | Bentiu.\n",
      "Processing Record 383  | Antalya Province.\n",
      "City not found. Skipping...\n",
      "City not found. Skipping...\n",
      "Processing Record 386  | Kikwit.\n",
      "Processing Record 387  | Balkanabat.\n",
      "Processing Record 388  | Port Shepstone.\n",
      "Processing Record 389  | Igarapé.\n",
      "Processing Record 390  | Geraldton.\n",
      "Processing Record 391  | Namatanai.\n",
      "Processing Record 392  | Östersund.\n",
      "Processing Record 393  | Gairo.\n",
      "Processing Record 394  | Isla Mujeres.\n",
      "Processing Record 395  | Lagoa.\n",
      "Processing Record 396  | Sa Kaeo.\n",
      "Processing Record 397  | Chimbote.\n",
      "Processing Record 398  | Cidreira.\n",
      "Processing Record 399  | Parakou.\n",
      "Processing Record 400  | Viedma.\n",
      "Processing Record 401  | Mokhsogollokh.\n",
      "Processing Record 402  | Necochea.\n",
      "Processing Record 403  | Katy.\n",
      "Processing Record 404  | Khatanga.\n",
      "Processing Record 405  | Cabra.\n",
      "Processing Record 406  | Belmonte.\n",
      "Processing Record 407  | Kiama.\n",
      "Processing Record 408  | Talaya.\n",
      "Processing Record 409  | Mianyang.\n",
      "Processing Record 410  | Vao.\n",
      "Processing Record 411  | Hofn.\n",
      "Processing Record 412  | Vila Franca do Campo.\n",
      "City not found. Skipping...\n",
      "Processing Record 414  | Padang.\n",
      "Processing Record 415  | Maceió.\n",
      "Processing Record 416  | Port Hedland.\n",
      "City not found. Skipping...\n",
      "Processing Record 418  | Esik.\n",
      "Processing Record 419  | Rocha.\n",
      "Processing Record 420  | Soyo.\n",
      "Processing Record 421  | Riyadh.\n",
      "Processing Record 422  | Port Macquarie.\n",
      "Processing Record 423  | Kharp.\n",
      "Processing Record 424  | Crowley.\n",
      "Processing Record 425  | Ekhabi.\n",
      "Processing Record 426  | Dicabisagan.\n",
      "Processing Record 427  | Charters Towers.\n",
      "City not found. Skipping...\n",
      "Processing Record 429  | Waipawa.\n",
      "Processing Record 430  | Nokaneng.\n",
      "City not found. Skipping...\n",
      "Processing Record 432  | Karratha.\n",
      "Processing Record 433  | Susanville.\n",
      "City not found. Skipping...\n",
      "Processing Record 435  | Ust-Maya.\n",
      "Processing Record 436  | Kuytun.\n",
      "Processing Record 437  | Gemona.\n",
      "Processing Record 438  | Liepāja.\n",
      "Processing Record 439  | Boddam.\n",
      "City not found. Skipping...\n",
      "Processing Record 441  | Guiren.\n",
      "Processing Record 442  | Saint-Augustin.\n",
      "Processing Record 443  | Santa Cruz de la Sierra.\n",
      "Processing Record 444  | São João da Barra.\n",
      "Processing Record 445  | Totness.\n",
      "Processing Record 446  | Formosa do Rio Preto.\n",
      "Processing Record 447  | Lorengau.\n",
      "Processing Record 448  | San Quintín.\n",
      "City not found. Skipping...\n",
      "Processing Record 450  | Venadillo.\n",
      "Processing Record 451  | Constitución.\n",
      "Processing Record 452  | Mnogovershinnyy.\n",
      "Processing Record 453  | Saldanha.\n",
      "Processing Record 454  | Muisne.\n",
      "Processing Record 455  | Pedersore.\n",
      "Processing Record 456  | Dubrovytsya.\n",
      "Processing Record 457  | Alta Floresta.\n",
      "City not found. Skipping...\n",
      "Processing Record 459  | Albolote.\n",
      "Processing Record 460  | Suntar.\n",
      "Processing Record 461  | Panabá.\n",
      "City not found. Skipping...\n",
      "Processing Record 463  | Megion.\n",
      "Processing Record 464  | Sembakung.\n",
      "Processing Record 465  | Harlingen.\n",
      "Processing Record 466  | Lappeenranta.\n",
      "Processing Record 467  | Moramanga.\n",
      "Processing Record 468  | Misratah.\n",
      "Processing Record 469  | Gewanē.\n",
      "Processing Record 470  | Oudtshoorn.\n",
      "Processing Record 471  | Gao.\n",
      "Processing Record 472  | Bouaké.\n",
      "Processing Record 473  | Faanui.\n"
     ]
    },
    {
     "name": "stdout",
     "output_type": "stream",
     "text": [
      "Processing Record 474  | Burnie.\n",
      "Processing Record 475  | Ketchikan.\n",
      "Processing Record 476  | Meulaboh.\n",
      "Processing Record 477  | Karasjok.\n",
      "Processing Record 478  | Trojes.\n",
      "Processing Record 479  | Taksimo.\n",
      "Processing Record 480  | Kang.\n",
      "Processing Record 481  | Linxia Chengguanzhen.\n",
      "Processing Record 482  | Tiruchchendur.\n",
      "Processing Record 483  | Fes.\n",
      "Processing Record 484  | Zhuhai.\n",
      "Processing Record 485  | Naze.\n",
      "Processing Record 486  | Les Cayes.\n",
      "Processing Record 487  | Kieta.\n",
      "Processing Record 488  | Vondrozo.\n",
      "Processing Record 489  | Verkhoyansk.\n",
      "Processing Record 490  | Matara.\n",
      "Processing Record 491  | Karlskrona.\n",
      "Processing Record 492  | Belaya Gora.\n",
      "Processing Record 493  | Saint-Joseph.\n",
      "Processing Record 494  | Aksarka.\n",
      "Processing Record 495  | Englehart.\n",
      "Processing Record 496  | Ilhéus.\n",
      "Processing Record 497  | Mocuba.\n",
      "Processing Record 498  | Tari.\n",
      "Processing Record 499  | Bozoum.\n",
      "Processing Record 500  | Kurud.\n",
      "Processing Record 501  | Dhārchula.\n",
      "Processing Record 502  | Tambura.\n",
      "Processing Record 503  | Udachny.\n",
      "Processing Record 504  | Usinsk.\n",
      "Processing Record 505  | General Roca.\n",
      "City not found. Skipping...\n",
      "Processing Record 507  | Kota Bharu.\n",
      "Processing Record 508  | Salalah.\n",
      "Processing Record 509  | Agadez.\n",
      "Processing Record 510  | Kinkala.\n",
      "Processing Record 511  | Matadi.\n",
      "Processing Record 512  | Nuevo Progreso.\n",
      "Processing Record 513  | Salta.\n",
      "Processing Record 514  | Gigmoto.\n",
      "Processing Record 515  | Almeirim.\n",
      "Processing Record 516  | Codrington.\n",
      "Processing Record 517  | Bagamoyo.\n",
      "Processing Record 518  | Tocopilla.\n",
      "Processing Record 519  | Mackenzie.\n",
      "Processing Record 520  | Coquimbo.\n",
      "Processing Record 521  | Balikpapan.\n",
      "Processing Record 522  | Kaeo.\n",
      "Processing Record 523  | Greymouth.\n",
      "Processing Record 524  | Zhangaözen.\n",
      "Processing Record 525  | Loreto.\n",
      "Processing Record 526  | San Fernando.\n",
      "Processing Record 527  | Chapais.\n",
      "Processing Record 528  | Sajanan.\n",
      "Processing Record 529  | Kristiansund.\n",
      "Processing Record 530  | Boyolangu.\n",
      "Processing Record 531  | Basingstoke.\n",
      "Processing Record 532  | Mumford.\n",
      "Processing Record 533  | Along.\n",
      "Processing Record 534  | Venustiano Carranza.\n",
      "Processing Record 535  | Latung.\n",
      "Processing Record 536  | Krasnyy Chikoy.\n",
      "Processing Record 537  | Mujiayingzi.\n",
      "Processing Record 538  | Santa Rosa.\n",
      "Processing Record 539  | Grand Gaube.\n",
      "Processing Record 540  | Dunmore Town.\n",
      "Processing Record 541  | Northam.\n",
      "Processing Record 542  | Opuwo.\n",
      "Processing Record 543  | Antalaha.\n",
      "Processing Record 544  | Yaan.\n",
      "Processing Record 545  | Ondjiva.\n",
      "Processing Record 546  | Nueva Loja.\n",
      "Processing Record 547  | Odlābāri.\n",
      "Processing Record 548  | Louis Trichardt.\n",
      "Processing Record 549  | Adrar.\n",
      "Processing Record 550  | Pangnirtung.\n",
      "Processing Record 551  | Kayerkan.\n",
      "Processing Record 552  | Makakilo City.\n",
      "Processing Record 553  | Edson.\n",
      "Processing Record 554  | Loukhi.\n",
      "Processing Record 555  | Muscat.\n",
      "Processing Record 556  | Okahandja.\n",
      "Processing Record 557  | Mount Gambier.\n",
      "Processing Record 558  | Umluj.\n",
      "Processing Record 559  | Province of Groningen.\n",
      "Processing Record 560  | Chornukhy.\n",
      "Processing Record 561  | Vagay.\n",
      "City not found. Skipping...\n",
      "City not found. Skipping...\n",
      "Processing Record 564  | Fairbanks.\n",
      "City not found. Skipping...\n",
      "Processing Record 566  | Amahai.\n",
      "Processing Record 567  | Kununurra.\n",
      "Processing Record 568  | Siderno.\n",
      "Processing Record 569  | Praia da Vitória.\n",
      "Processing Record 570  | Sémbé.\n",
      "Processing Record 571  | Zheshart.\n",
      "Processing Record 572  | Yenagoa.\n",
      "Processing Record 573  | Srednekolymsk.\n",
      "Processing Record 574  | Maple Creek.\n",
      "Processing Record 575  | Poum.\n",
      "Processing Record 576  | Dawei.\n",
      "Processing Record 577  | Yanliang.\n",
      "City not found. Skipping...\n",
      "Processing Record 579  | Johi.\n",
      "Processing Record 580  | Pingliang.\n",
      "Processing Record 581  | Kalat.\n",
      "Processing Record 582  | Kushmurun.\n",
      "Processing Record 583  | Tegul'det.\n",
      "Processing Record 584  | Santa Marta.\n",
      "Processing Record 585  | Shingū.\n",
      "Processing Record 586  | Steenwijk.\n",
      "Processing Record 587  | Marília.\n",
      "Processing Record 588  | Hobyo.\n",
      "Processing Record 589  | Pasvalys.\n",
      "Processing Record 590  | Mamlyutka.\n",
      "Processing Record 591  | Bandarbeyla.\n",
      "Processing Record 592  | Gizo Government Station.\n",
      "Processing Record 593  | Lebowakgomo.\n",
      "Processing Record 594  | Santa Maria.\n",
      "Processing Record 595  | Fare.\n",
      "Processing Record 596  | Toshām.\n",
      "Processing Record 597  | Saint-Pierre.\n",
      "Processing Record 598  | San Jose.\n",
      "Processing Record 599  | Kpandae.\n",
      "Processing Record 600  | Piaçabuçu.\n",
      "Processing Record 601  | Port-Gentil.\n",
      "City not found. Skipping...\n"
     ]
    }
   ],
   "source": [
    "#Get the base url to pull the api request \n",
    "base_url = \"http://api.openweathermap.org/data/2.5/weather?\"\n",
    "\n",
    "#List to hold weather info\n",
    "city_data = []\n",
    "units = \"imperial\"\n",
    "count = 1\n",
    "\n",
    "# loop throught all the cities and append to city list\n",
    "for city in cities:\n",
    "    \n",
    "    #Create search query, make request and store in json\n",
    "    response = requests.get(base_url + \"appid=\" + weather_api_key + \"&q=\" + city +\"&units=\" + units).json()\n",
    "    \n",
    "    # Add a one second interval between queries to stay within API query limits\n",
    "    time.sleep(1)\n",
    "    \n",
    "    try:\n",
    "        print(f\"Processing Record {count}  | {response['name']}.\")\n",
    "        \n",
    "        name = response['name']\n",
    "        lat = response['coord']['lat']\n",
    "        lng = response['coord']['lon']\n",
    "        max_temp = response['main']['temp_max']\n",
    "        Humidity = response['main']['humidity']\n",
    "        cloud = response['clouds']['all']\n",
    "        wind_speed = response['wind']['speed']\n",
    "        country = response['sys']['country']\n",
    "        date = response['dt']\n",
    "        city_data.append({\"City\": name,\"Lat\": lat, \"Lng\" : lng, \"Max Temp(F)\" :max_temp,\"Humidity\": Humidity ,\"Cloudiness\": cloud, \"Wind Speed\" : wind_speed,\"Country\" : country, \"Date\" :date })\n",
    "\n",
    "    except (KeyError, IndexError):\n",
    "        print(\"City not found. Skipping...\")\n",
    "    count = count + 1\n",
    "        "
   ]
  },
  {
   "cell_type": "markdown",
   "metadata": {},
   "source": [
    "### Convert Raw Data to DataFrame\n",
    "* Export the city data into a .csv.\n",
    "* Display the DataFrame"
   ]
  },
  {
   "cell_type": "code",
   "execution_count": 120,
   "metadata": {},
   "outputs": [
    {
     "data": {
      "text/html": [
       "<div>\n",
       "<style scoped>\n",
       "    .dataframe tbody tr th:only-of-type {\n",
       "        vertical-align: middle;\n",
       "    }\n",
       "\n",
       "    .dataframe tbody tr th {\n",
       "        vertical-align: top;\n",
       "    }\n",
       "\n",
       "    .dataframe thead th {\n",
       "        text-align: right;\n",
       "    }\n",
       "</style>\n",
       "<table border=\"1\" class=\"dataframe\">\n",
       "  <thead>\n",
       "    <tr style=\"text-align: right;\">\n",
       "      <th></th>\n",
       "      <th>City</th>\n",
       "      <th>Lat</th>\n",
       "      <th>Lng</th>\n",
       "      <th>Max Temp(F)</th>\n",
       "      <th>Humidity</th>\n",
       "      <th>Cloudiness</th>\n",
       "      <th>Wind Speed</th>\n",
       "      <th>Country</th>\n",
       "      <th>Date</th>\n",
       "    </tr>\n",
       "  </thead>\n",
       "  <tbody>\n",
       "    <tr>\n",
       "      <th>0</th>\n",
       "      <td>Maumere</td>\n",
       "      <td>-8.62</td>\n",
       "      <td>122.21</td>\n",
       "      <td>80.80</td>\n",
       "      <td>76</td>\n",
       "      <td>100</td>\n",
       "      <td>1.77</td>\n",
       "      <td>ID</td>\n",
       "      <td>1607289743</td>\n",
       "    </tr>\n",
       "    <tr>\n",
       "      <th>1</th>\n",
       "      <td>Tamandaré</td>\n",
       "      <td>-8.76</td>\n",
       "      <td>-35.10</td>\n",
       "      <td>77.65</td>\n",
       "      <td>74</td>\n",
       "      <td>56</td>\n",
       "      <td>8.90</td>\n",
       "      <td>BR</td>\n",
       "      <td>1607289744</td>\n",
       "    </tr>\n",
       "    <tr>\n",
       "      <th>2</th>\n",
       "      <td>Gaziantep</td>\n",
       "      <td>37.06</td>\n",
       "      <td>37.38</td>\n",
       "      <td>35.60</td>\n",
       "      <td>80</td>\n",
       "      <td>0</td>\n",
       "      <td>2.15</td>\n",
       "      <td>TR</td>\n",
       "      <td>1607289745</td>\n",
       "    </tr>\n",
       "    <tr>\n",
       "      <th>3</th>\n",
       "      <td>Ciudad Bolivar</td>\n",
       "      <td>8.12</td>\n",
       "      <td>-63.55</td>\n",
       "      <td>88.00</td>\n",
       "      <td>56</td>\n",
       "      <td>100</td>\n",
       "      <td>8.34</td>\n",
       "      <td>VE</td>\n",
       "      <td>1607289611</td>\n",
       "    </tr>\n",
       "    <tr>\n",
       "      <th>4</th>\n",
       "      <td>Hermanus</td>\n",
       "      <td>-34.42</td>\n",
       "      <td>19.23</td>\n",
       "      <td>66.00</td>\n",
       "      <td>86</td>\n",
       "      <td>99</td>\n",
       "      <td>8.01</td>\n",
       "      <td>ZA</td>\n",
       "      <td>1607289748</td>\n",
       "    </tr>\n",
       "  </tbody>\n",
       "</table>\n",
       "</div>"
      ],
      "text/plain": [
       "             City    Lat     Lng  Max Temp(F)  Humidity  Cloudiness  \\\n",
       "0         Maumere  -8.62  122.21        80.80        76         100   \n",
       "1       Tamandaré  -8.76  -35.10        77.65        74          56   \n",
       "2       Gaziantep  37.06   37.38        35.60        80           0   \n",
       "3  Ciudad Bolivar   8.12  -63.55        88.00        56         100   \n",
       "4        Hermanus -34.42   19.23        66.00        86          99   \n",
       "\n",
       "   Wind Speed Country        Date  \n",
       "0        1.77      ID  1607289743  \n",
       "1        8.90      BR  1607289744  \n",
       "2        2.15      TR  1607289745  \n",
       "3        8.34      VE  1607289611  \n",
       "4        8.01      ZA  1607289748  "
      ]
     },
     "execution_count": 120,
     "metadata": {},
     "output_type": "execute_result"
    }
   ],
   "source": [
    "#From the city append above, create a Dataframe\n",
    "city_df = pd.DataFrame (city_data)\n",
    "city_df.head()"
   ]
  },
  {
   "cell_type": "code",
   "execution_count": 121,
   "metadata": {},
   "outputs": [],
   "source": [
    "# Push the DataFrame to a new CSV file\n",
    "city_df.to_csv(\"../output_data/cities.csv\",\n",
    "                  encoding=\"utf-8\", index=True, header=True)"
   ]
  },
  {
   "cell_type": "code",
   "execution_count": 122,
   "metadata": {},
   "outputs": [
    {
     "data": {
      "text/html": [
       "<div>\n",
       "<style scoped>\n",
       "    .dataframe tbody tr th:only-of-type {\n",
       "        vertical-align: middle;\n",
       "    }\n",
       "\n",
       "    .dataframe tbody tr th {\n",
       "        vertical-align: top;\n",
       "    }\n",
       "\n",
       "    .dataframe thead th {\n",
       "        text-align: right;\n",
       "    }\n",
       "</style>\n",
       "<table border=\"1\" class=\"dataframe\">\n",
       "  <thead>\n",
       "    <tr style=\"text-align: right;\">\n",
       "      <th></th>\n",
       "      <th>Lat</th>\n",
       "      <th>Lng</th>\n",
       "      <th>Max Temp(F)</th>\n",
       "      <th>Humidity</th>\n",
       "      <th>Cloudiness</th>\n",
       "      <th>Wind Speed</th>\n",
       "      <th>Date</th>\n",
       "    </tr>\n",
       "  </thead>\n",
       "  <tbody>\n",
       "    <tr>\n",
       "      <th>count</th>\n",
       "      <td>553.000000</td>\n",
       "      <td>553.000000</td>\n",
       "      <td>553.000000</td>\n",
       "      <td>553.000000</td>\n",
       "      <td>553.000000</td>\n",
       "      <td>553.000000</td>\n",
       "      <td>5.530000e+02</td>\n",
       "    </tr>\n",
       "    <tr>\n",
       "      <th>mean</th>\n",
       "      <td>20.394756</td>\n",
       "      <td>21.813942</td>\n",
       "      <td>52.115262</td>\n",
       "      <td>74.994575</td>\n",
       "      <td>54.399638</td>\n",
       "      <td>7.960488</td>\n",
       "      <td>1.607290e+09</td>\n",
       "    </tr>\n",
       "    <tr>\n",
       "      <th>std</th>\n",
       "      <td>34.140216</td>\n",
       "      <td>89.362293</td>\n",
       "      <td>28.752484</td>\n",
       "      <td>19.046424</td>\n",
       "      <td>40.244918</td>\n",
       "      <td>5.550397</td>\n",
       "      <td>2.043536e+02</td>\n",
       "    </tr>\n",
       "    <tr>\n",
       "      <th>min</th>\n",
       "      <td>-54.800000</td>\n",
       "      <td>-175.200000</td>\n",
       "      <td>-33.360000</td>\n",
       "      <td>12.000000</td>\n",
       "      <td>0.000000</td>\n",
       "      <td>0.180000</td>\n",
       "      <td>1.607290e+09</td>\n",
       "    </tr>\n",
       "    <tr>\n",
       "      <th>25%</th>\n",
       "      <td>-8.760000</td>\n",
       "      <td>-54.330000</td>\n",
       "      <td>32.000000</td>\n",
       "      <td>66.000000</td>\n",
       "      <td>6.000000</td>\n",
       "      <td>3.490000</td>\n",
       "      <td>1.607290e+09</td>\n",
       "    </tr>\n",
       "    <tr>\n",
       "      <th>50%</th>\n",
       "      <td>22.810000</td>\n",
       "      <td>23.670000</td>\n",
       "      <td>61.000000</td>\n",
       "      <td>79.000000</td>\n",
       "      <td>69.000000</td>\n",
       "      <td>6.930000</td>\n",
       "      <td>1.607290e+09</td>\n",
       "    </tr>\n",
       "    <tr>\n",
       "      <th>75%</th>\n",
       "      <td>50.720000</td>\n",
       "      <td>100.350000</td>\n",
       "      <td>76.620000</td>\n",
       "      <td>89.000000</td>\n",
       "      <td>96.000000</td>\n",
       "      <td>11.160000</td>\n",
       "      <td>1.607290e+09</td>\n",
       "    </tr>\n",
       "    <tr>\n",
       "      <th>max</th>\n",
       "      <td>78.220000</td>\n",
       "      <td>179.320000</td>\n",
       "      <td>91.400000</td>\n",
       "      <td>100.000000</td>\n",
       "      <td>100.000000</td>\n",
       "      <td>36.910000</td>\n",
       "      <td>1.607290e+09</td>\n",
       "    </tr>\n",
       "  </tbody>\n",
       "</table>\n",
       "</div>"
      ],
      "text/plain": [
       "              Lat         Lng  Max Temp(F)    Humidity  Cloudiness  \\\n",
       "count  553.000000  553.000000   553.000000  553.000000  553.000000   \n",
       "mean    20.394756   21.813942    52.115262   74.994575   54.399638   \n",
       "std     34.140216   89.362293    28.752484   19.046424   40.244918   \n",
       "min    -54.800000 -175.200000   -33.360000   12.000000    0.000000   \n",
       "25%     -8.760000  -54.330000    32.000000   66.000000    6.000000   \n",
       "50%     22.810000   23.670000    61.000000   79.000000   69.000000   \n",
       "75%     50.720000  100.350000    76.620000   89.000000   96.000000   \n",
       "max     78.220000  179.320000    91.400000  100.000000  100.000000   \n",
       "\n",
       "       Wind Speed          Date  \n",
       "count  553.000000  5.530000e+02  \n",
       "mean     7.960488  1.607290e+09  \n",
       "std      5.550397  2.043536e+02  \n",
       "min      0.180000  1.607290e+09  \n",
       "25%      3.490000  1.607290e+09  \n",
       "50%      6.930000  1.607290e+09  \n",
       "75%     11.160000  1.607290e+09  \n",
       "max     36.910000  1.607290e+09  "
      ]
     },
     "execution_count": 122,
     "metadata": {},
     "output_type": "execute_result"
    }
   ],
   "source": [
    "# Use describe to display a statistical overview of the dataframe\n",
    "city_df.describe()"
   ]
  },
  {
   "cell_type": "markdown",
   "metadata": {},
   "source": [
    "## Inspect the data and remove the cities where the humidity > 100%.\n",
    "----\n",
    "Skip this step if there are no cities that have humidity > 100%. "
   ]
  },
  {
   "cell_type": "code",
   "execution_count": 123,
   "metadata": {},
   "outputs": [
    {
     "data": {
      "text/html": [
       "<div>\n",
       "<style scoped>\n",
       "    .dataframe tbody tr th:only-of-type {\n",
       "        vertical-align: middle;\n",
       "    }\n",
       "\n",
       "    .dataframe tbody tr th {\n",
       "        vertical-align: top;\n",
       "    }\n",
       "\n",
       "    .dataframe thead th {\n",
       "        text-align: right;\n",
       "    }\n",
       "</style>\n",
       "<table border=\"1\" class=\"dataframe\">\n",
       "  <thead>\n",
       "    <tr style=\"text-align: right;\">\n",
       "      <th></th>\n",
       "      <th>City</th>\n",
       "      <th>Lat</th>\n",
       "      <th>Lng</th>\n",
       "      <th>Max Temp(F)</th>\n",
       "      <th>Humidity</th>\n",
       "      <th>Cloudiness</th>\n",
       "      <th>Wind Speed</th>\n",
       "      <th>Country</th>\n",
       "      <th>Date</th>\n",
       "    </tr>\n",
       "  </thead>\n",
       "  <tbody>\n",
       "    <tr>\n",
       "      <th>0</th>\n",
       "      <td>Maumere</td>\n",
       "      <td>-8.62</td>\n",
       "      <td>122.21</td>\n",
       "      <td>80.80</td>\n",
       "      <td>76</td>\n",
       "      <td>100</td>\n",
       "      <td>1.77</td>\n",
       "      <td>ID</td>\n",
       "      <td>1607289743</td>\n",
       "    </tr>\n",
       "    <tr>\n",
       "      <th>1</th>\n",
       "      <td>Tamandaré</td>\n",
       "      <td>-8.76</td>\n",
       "      <td>-35.10</td>\n",
       "      <td>77.65</td>\n",
       "      <td>74</td>\n",
       "      <td>56</td>\n",
       "      <td>8.90</td>\n",
       "      <td>BR</td>\n",
       "      <td>1607289744</td>\n",
       "    </tr>\n",
       "    <tr>\n",
       "      <th>2</th>\n",
       "      <td>Gaziantep</td>\n",
       "      <td>37.06</td>\n",
       "      <td>37.38</td>\n",
       "      <td>35.60</td>\n",
       "      <td>80</td>\n",
       "      <td>0</td>\n",
       "      <td>2.15</td>\n",
       "      <td>TR</td>\n",
       "      <td>1607289745</td>\n",
       "    </tr>\n",
       "    <tr>\n",
       "      <th>3</th>\n",
       "      <td>Ciudad Bolivar</td>\n",
       "      <td>8.12</td>\n",
       "      <td>-63.55</td>\n",
       "      <td>88.00</td>\n",
       "      <td>56</td>\n",
       "      <td>100</td>\n",
       "      <td>8.34</td>\n",
       "      <td>VE</td>\n",
       "      <td>1607289611</td>\n",
       "    </tr>\n",
       "    <tr>\n",
       "      <th>4</th>\n",
       "      <td>Hermanus</td>\n",
       "      <td>-34.42</td>\n",
       "      <td>19.23</td>\n",
       "      <td>66.00</td>\n",
       "      <td>86</td>\n",
       "      <td>99</td>\n",
       "      <td>8.01</td>\n",
       "      <td>ZA</td>\n",
       "      <td>1607289748</td>\n",
       "    </tr>\n",
       "  </tbody>\n",
       "</table>\n",
       "</div>"
      ],
      "text/plain": [
       "             City    Lat     Lng  Max Temp(F)  Humidity  Cloudiness  \\\n",
       "0         Maumere  -8.62  122.21        80.80        76         100   \n",
       "1       Tamandaré  -8.76  -35.10        77.65        74          56   \n",
       "2       Gaziantep  37.06   37.38        35.60        80           0   \n",
       "3  Ciudad Bolivar   8.12  -63.55        88.00        56         100   \n",
       "4        Hermanus -34.42   19.23        66.00        86          99   \n",
       "\n",
       "   Wind Speed Country        Date  \n",
       "0        1.77      ID  1607289743  \n",
       "1        8.90      BR  1607289744  \n",
       "2        2.15      TR  1607289745  \n",
       "3        8.34      VE  1607289611  \n",
       "4        8.01      ZA  1607289748  "
      ]
     },
     "execution_count": 123,
     "metadata": {},
     "output_type": "execute_result"
    }
   ],
   "source": [
    "# Check if there are cities where the humidity > 100%\n",
    "city_df.drop(city_df.index[city_df['Humidity'] >100], inplace = True)\n",
    "city_df.head()"
   ]
  },
  {
   "cell_type": "code",
   "execution_count": 124,
   "metadata": {},
   "outputs": [
    {
     "data": {
      "text/html": [
       "<div>\n",
       "<style scoped>\n",
       "    .dataframe tbody tr th:only-of-type {\n",
       "        vertical-align: middle;\n",
       "    }\n",
       "\n",
       "    .dataframe tbody tr th {\n",
       "        vertical-align: top;\n",
       "    }\n",
       "\n",
       "    .dataframe thead th {\n",
       "        text-align: right;\n",
       "    }\n",
       "</style>\n",
       "<table border=\"1\" class=\"dataframe\">\n",
       "  <thead>\n",
       "    <tr style=\"text-align: right;\">\n",
       "      <th></th>\n",
       "      <th>Lat</th>\n",
       "      <th>Lng</th>\n",
       "      <th>Max Temp(F)</th>\n",
       "      <th>Humidity</th>\n",
       "      <th>Cloudiness</th>\n",
       "      <th>Wind Speed</th>\n",
       "      <th>Date</th>\n",
       "    </tr>\n",
       "  </thead>\n",
       "  <tbody>\n",
       "    <tr>\n",
       "      <th>count</th>\n",
       "      <td>553.000000</td>\n",
       "      <td>553.000000</td>\n",
       "      <td>553.000000</td>\n",
       "      <td>553.000000</td>\n",
       "      <td>553.000000</td>\n",
       "      <td>553.000000</td>\n",
       "      <td>5.530000e+02</td>\n",
       "    </tr>\n",
       "    <tr>\n",
       "      <th>mean</th>\n",
       "      <td>20.394756</td>\n",
       "      <td>21.813942</td>\n",
       "      <td>52.115262</td>\n",
       "      <td>74.994575</td>\n",
       "      <td>54.399638</td>\n",
       "      <td>7.960488</td>\n",
       "      <td>1.607290e+09</td>\n",
       "    </tr>\n",
       "    <tr>\n",
       "      <th>std</th>\n",
       "      <td>34.140216</td>\n",
       "      <td>89.362293</td>\n",
       "      <td>28.752484</td>\n",
       "      <td>19.046424</td>\n",
       "      <td>40.244918</td>\n",
       "      <td>5.550397</td>\n",
       "      <td>2.043536e+02</td>\n",
       "    </tr>\n",
       "    <tr>\n",
       "      <th>min</th>\n",
       "      <td>-54.800000</td>\n",
       "      <td>-175.200000</td>\n",
       "      <td>-33.360000</td>\n",
       "      <td>12.000000</td>\n",
       "      <td>0.000000</td>\n",
       "      <td>0.180000</td>\n",
       "      <td>1.607290e+09</td>\n",
       "    </tr>\n",
       "    <tr>\n",
       "      <th>25%</th>\n",
       "      <td>-8.760000</td>\n",
       "      <td>-54.330000</td>\n",
       "      <td>32.000000</td>\n",
       "      <td>66.000000</td>\n",
       "      <td>6.000000</td>\n",
       "      <td>3.490000</td>\n",
       "      <td>1.607290e+09</td>\n",
       "    </tr>\n",
       "    <tr>\n",
       "      <th>50%</th>\n",
       "      <td>22.810000</td>\n",
       "      <td>23.670000</td>\n",
       "      <td>61.000000</td>\n",
       "      <td>79.000000</td>\n",
       "      <td>69.000000</td>\n",
       "      <td>6.930000</td>\n",
       "      <td>1.607290e+09</td>\n",
       "    </tr>\n",
       "    <tr>\n",
       "      <th>75%</th>\n",
       "      <td>50.720000</td>\n",
       "      <td>100.350000</td>\n",
       "      <td>76.620000</td>\n",
       "      <td>89.000000</td>\n",
       "      <td>96.000000</td>\n",
       "      <td>11.160000</td>\n",
       "      <td>1.607290e+09</td>\n",
       "    </tr>\n",
       "    <tr>\n",
       "      <th>max</th>\n",
       "      <td>78.220000</td>\n",
       "      <td>179.320000</td>\n",
       "      <td>91.400000</td>\n",
       "      <td>100.000000</td>\n",
       "      <td>100.000000</td>\n",
       "      <td>36.910000</td>\n",
       "      <td>1.607290e+09</td>\n",
       "    </tr>\n",
       "  </tbody>\n",
       "</table>\n",
       "</div>"
      ],
      "text/plain": [
       "              Lat         Lng  Max Temp(F)    Humidity  Cloudiness  \\\n",
       "count  553.000000  553.000000   553.000000  553.000000  553.000000   \n",
       "mean    20.394756   21.813942    52.115262   74.994575   54.399638   \n",
       "std     34.140216   89.362293    28.752484   19.046424   40.244918   \n",
       "min    -54.800000 -175.200000   -33.360000   12.000000    0.000000   \n",
       "25%     -8.760000  -54.330000    32.000000   66.000000    6.000000   \n",
       "50%     22.810000   23.670000    61.000000   79.000000   69.000000   \n",
       "75%     50.720000  100.350000    76.620000   89.000000   96.000000   \n",
       "max     78.220000  179.320000    91.400000  100.000000  100.000000   \n",
       "\n",
       "       Wind Speed          Date  \n",
       "count  553.000000  5.530000e+02  \n",
       "mean     7.960488  1.607290e+09  \n",
       "std      5.550397  2.043536e+02  \n",
       "min      0.180000  1.607290e+09  \n",
       "25%      3.490000  1.607290e+09  \n",
       "50%      6.930000  1.607290e+09  \n",
       "75%     11.160000  1.607290e+09  \n",
       "max     36.910000  1.607290e+09  "
      ]
     },
     "execution_count": 124,
     "metadata": {},
     "output_type": "execute_result"
    }
   ],
   "source": [
    "city_df.describe()"
   ]
  },
  {
   "cell_type": "code",
   "execution_count": 17,
   "metadata": {},
   "outputs": [
    {
     "data": {
      "text/plain": [
       "Int64Index([], dtype='int64')"
      ]
     },
     "execution_count": 17,
     "metadata": {},
     "output_type": "execute_result"
    }
   ],
   "source": [
    "#  Get the indices of cities that have humidity over 100%.\n"
   ]
  },
  {
   "cell_type": "code",
   "execution_count": 125,
   "metadata": {},
   "outputs": [],
   "source": [
    "# Make a new DataFrame equal to the city data to drop all humidity outliers by index.\n",
    "# Passing \"inplace=False\" will make a copy of the city_data DataFrame, which we call \"clean_city_data\".\n"
   ]
  },
  {
   "cell_type": "code",
   "execution_count": null,
   "metadata": {},
   "outputs": [],
   "source": [
    "\n"
   ]
  },
  {
   "cell_type": "markdown",
   "metadata": {},
   "source": [
    "## Plotting the Data\n",
    "* Use proper labeling of the plots using plot titles (including date of analysis) and axes labels.\n",
    "* Save the plotted figures as .pngs."
   ]
  },
  {
   "cell_type": "markdown",
   "metadata": {},
   "source": [
    "## Latitude vs. Temperature Plot"
   ]
  },
  {
   "cell_type": "code",
   "execution_count": 165,
   "metadata": {},
   "outputs": [
    {
     "data": {
      "image/png": "[encoded data removed]",
      "text/plain": [
       "<Figure size 432x288 with 1 Axes>"
      ]
     },
     "metadata": {
      "needs_background": "light"
     },
     "output_type": "display_data"
    }
   ],
   "source": [
    "#We are using the clean city data to extract the values and do the conparison\n",
    "x_values = city_df['Lat']\n",
    "y_values = city_df['Max Temp(F)']\n",
    "plt.scatter(x_values,y_values,facecolors=\"teal\", edgecolors=\"black\")\n",
    "plt.title('City Latitude vs. Max Temperature (12/6/20)',fontsize = 12)\n",
    "plt.xlabel('Latitude')\n",
    "plt.ylabel('Max Temperature (F)')\n",
    "plt.grid()\n",
    "# plt.ylim(-20,100)\n",
    "plt.savefig(\"../output_data/figure_1.png\")\n",
    "plt.show()"
   ]
  },
  {
   "cell_type": "code",
   "execution_count": 150,
   "metadata": {},
   "outputs": [],
   "source": [
    "#Analysis"
   ]
  },
  {
   "cell_type": "markdown",
   "metadata": {},
   "source": [
    "## Latitude vs. Humidity Plot"
   ]
  },
  {
   "cell_type": "code",
   "execution_count": 164,
   "metadata": {},
   "outputs": [
    {
     "data": {
      "image/png": "[encoded data removed]",
      "text/plain": [
       "<Figure size 432x288 with 1 Axes>"
      ]
     },
     "metadata": {
      "needs_background": "light"
     },
     "output_type": "display_data"
    }
   ],
   "source": [
    "#We are using the clean city data to extract the values and do the conparison\n",
    "x_values = city_df['Lat']\n",
    "y_values = city_df['Humidity']\n",
    "plt.scatter(x_values,y_values,facecolors=\"teal\", edgecolors=\"black\")\n",
    "plt.title('City Latitude vs. Humidity (12/6/20)',fontsize = 12)\n",
    "plt.xlabel('Latitude')\n",
    "plt.ylabel('Humidity')\n",
    "plt.grid()\n",
    "# plt.ylim(-20,100)\n",
    "plt.savefig(\"../output_data/figure_2.png\")\n",
    "plt.show()"
   ]
  },
  {
   "cell_type": "code",
   "execution_count": 152,
   "metadata": {},
   "outputs": [],
   "source": [
    "#Analysis"
   ]
  },
  {
   "cell_type": "markdown",
   "metadata": {},
   "source": [
    "## Latitude vs. Cloudiness Plot"
   ]
  },
  {
   "cell_type": "code",
   "execution_count": 163,
   "metadata": {},
   "outputs": [
    {
     "data": {
      "image/png": "[encoded data removed]",
      "text/plain": [
       "<Figure size 432x288 with 1 Axes>"
      ]
     },
     "metadata": {
      "needs_background": "light"
     },
     "output_type": "display_data"
    }
   ],
   "source": [
    "#We are using the clean city data to extract the values and do the conparison\n",
    "x_values = city_df['Lat']\n",
    "y_values = city_df['Cloudiness']\n",
    "plt.scatter(x_values,y_values,facecolors=\"teal\", edgecolors=\"black\")\n",
    "plt.title('City Latitude vs. Cloudines (12/6/20)',fontsize = 12)\n",
    "plt.xlabel('Latitude')\n",
    "plt.ylabel('Cloudiness ')\n",
    "plt.grid()\n",
    "plt.ylim(0,100)\n",
    "plt.savefig(\"../output_data/figure_3.png\")\n",
    "plt.show()"
   ]
  },
  {
   "cell_type": "code",
   "execution_count": 154,
   "metadata": {},
   "outputs": [],
   "source": [
    "#Analysis"
   ]
  },
  {
   "cell_type": "markdown",
   "metadata": {},
   "source": [
    "## Latitude vs. Wind Speed Plot"
   ]
  },
  {
   "cell_type": "code",
   "execution_count": 155,
   "metadata": {},
   "outputs": [
    {
     "data": {
      "image/png": "[encoded data removed]",
      "text/plain": [
       "<Figure size 432x288 with 1 Axes>"
      ]
     },
     "metadata": {
      "needs_background": "light"
     },
     "output_type": "display_data"
    }
   ],
   "source": [
    "#We are using the clean city data to extract the values and do the conparison\n",
    "x_values = city_df['Lat']\n",
    "y_values = city_df['Wind Speed']\n",
    "plt.scatter(x_values,y_values,facecolors=\"teal\", edgecolors=\"black\")\n",
    "plt.title('City Latitude vs. Wind Speed (12/6/20)',fontsize = 12)\n",
    "plt.xlabel('Latitude')\n",
    "plt.ylabel('Wind Speed (mph)')\n",
    "plt.grid()\n",
    "plt.ylim(0,40)\n",
    "plt.savefig(\"../output_data/figure_4.png\")\n",
    "plt.show()"
   ]
  },
  {
   "cell_type": "code",
   "execution_count": 156,
   "metadata": {},
   "outputs": [],
   "source": [
    "#Analysis"
   ]
  },
  {
   "cell_type": "markdown",
   "metadata": {},
   "source": [
    "## Linear Regression"
   ]
  },
  {
   "cell_type": "code",
   "execution_count": 24,
   "metadata": {},
   "outputs": [],
   "source": []
  },
  {
   "cell_type": "markdown",
   "metadata": {},
   "source": [
    "####  Northern Hemisphere - Max Temp vs. Latitude Linear Regression"
   ]
  },
  {
   "cell_type": "code",
   "execution_count": 25,
   "metadata": {},
   "outputs": [
    {
     "name": "stdout",
     "output_type": "stream",
     "text": [
      "The r-value is: 0.46937863826630627\n"
     ]
    },
    {
     "data": {
      "image/png": "[encoded data removed]",
      "text/plain": [
       "<Figure size 432x288 with 1 Axes>"
      ]
     },
     "metadata": {
      "needs_background": "light"
     },
     "output_type": "display_data"
    }
   ],
   "source": []
  },
  {
   "cell_type": "markdown",
   "metadata": {},
   "source": [
    "####  Southern Hemisphere - Max Temp vs. Latitude Linear Regression"
   ]
  },
  {
   "cell_type": "code",
   "execution_count": 26,
   "metadata": {},
   "outputs": [
    {
     "name": "stdout",
     "output_type": "stream",
     "text": [
      "The r-value is: 0.6082708688906918\n"
     ]
    },
    {
     "data": {
      "image/png": "[encoded data removed]",
      "text/plain": [
       "<Figure size 432x288 with 1 Axes>"
      ]
     },
     "metadata": {
      "needs_background": "light"
     },
     "output_type": "display_data"
    }
   ],
   "source": []
  },
  {
   "cell_type": "markdown",
   "metadata": {},
   "source": [
    "####  Northern Hemisphere - Humidity (%) vs. Latitude Linear Regression"
   ]
  },
  {
   "cell_type": "code",
   "execution_count": 27,
   "metadata": {},
   "outputs": [
    {
     "name": "stdout",
     "output_type": "stream",
     "text": [
      "The r-value is: 0.000543987878808455\n"
     ]
    },
    {
     "data": {
      "image/png": "[encoded data removed]",
      "text/plain": [
       "<Figure size 432x288 with 1 Axes>"
      ]
     },
     "metadata": {
      "needs_background": "light"
     },
     "output_type": "display_data"
    }
   ],
   "source": []
  },
  {
   "cell_type": "markdown",
   "metadata": {},
   "source": [
    "####  Southern Hemisphere - Humidity (%) vs. Latitude Linear Regression"
   ]
  },
  {
   "cell_type": "code",
   "execution_count": 28,
   "metadata": {},
   "outputs": [
    {
     "name": "stdout",
     "output_type": "stream",
     "text": [
      "The r-value is: 0.014985174297345524\n"
     ]
    },
    {
     "data": {
      "image/png": "[encoded data removed]",
      "text/plain": [
       "<Figure size 432x288 with 1 Axes>"
      ]
     },
     "metadata": {
      "needs_background": "light"
     },
     "output_type": "display_data"
    }
   ],
   "source": []
  },
  {
   "cell_type": "markdown",
   "metadata": {},
   "source": [
    "####  Northern Hemisphere - Cloudiness (%) vs. Latitude Linear Regression"
   ]
  },
  {
   "cell_type": "code",
   "execution_count": 29,
   "metadata": {},
   "outputs": [
    {
     "name": "stdout",
     "output_type": "stream",
     "text": [
      "The r-value is: 0.0020898727664228514\n"
     ]
    },
    {
     "data": {
      "image/png": "[encoded data removed]",
      "text/plain": [
       "<Figure size 432x288 with 1 Axes>"
      ]
     },
     "metadata": {
      "needs_background": "light"
     },
     "output_type": "display_data"
    }
   ],
   "source": []
  },
  {
   "cell_type": "markdown",
   "metadata": {},
   "source": [
    "####  Southern Hemisphere - Cloudiness (%) vs. Latitude Linear Regression"
   ]
  },
  {
   "cell_type": "code",
   "execution_count": 30,
   "metadata": {},
   "outputs": [
    {
     "name": "stdout",
     "output_type": "stream",
     "text": [
      "The r-value is: 0.0035263772085582894\n"
     ]
    },
    {
     "data": {
      "image/png": "[encoded data removed]",
      "text/plain": [
       "<Figure size 432x288 with 1 Axes>"
      ]
     },
     "metadata": {
      "needs_background": "light"
     },
     "output_type": "display_data"
    }
   ],
   "source": []
  },
  {
   "cell_type": "markdown",
   "metadata": {},
   "source": [
    "####  Northern Hemisphere - Wind Speed (mph) vs. Latitude Linear Regression"
   ]
  },
  {
   "cell_type": "code",
   "execution_count": 31,
   "metadata": {},
   "outputs": [
    {
     "name": "stdout",
     "output_type": "stream",
     "text": [
      "The r-value is: 0.04019723576144484\n"
     ]
    },
    {
     "data": {
      "image/png": "[encoded data removed]",
      "text/plain": [
       "<Figure size 432x288 with 1 Axes>"
      ]
     },
     "metadata": {
      "needs_background": "light"
     },
     "output_type": "display_data"
    }
   ],
   "source": []
  },
  {
   "cell_type": "markdown",
   "metadata": {},
   "source": [
    "####  Southern Hemisphere - Wind Speed (mph) vs. Latitude Linear Regression"
   ]
  },
  {
   "cell_type": "code",
   "execution_count": 32,
   "metadata": {},
   "outputs": [
    {
     "name": "stdout",
     "output_type": "stream",
     "text": [
      "The r-value is: 0.017128274759839232\n"
     ]
    },
    {
     "data": {
      "image/png": "[encoded data removed]",
      "text/plain": [
       "<Figure size 432x288 with 1 Axes>"
      ]
     },
     "metadata": {
      "needs_background": "light"
     },
     "output_type": "display_data"
    }
   ],
   "source": []
  },
  {
   "cell_type": "code",
   "execution_count": null,
   "metadata": {},
   "outputs": [],
   "source": []
  }
 ],
 "metadata": {
  "anaconda-cloud": {},
  "kernel_info": {
   "name": "python3"
  },
  "kernelspec": {
   "display_name": "PythonData2",
   "language": "python",
   "name": "pythondata2"
  },
  "language_info": {
   "codemirror_mode": {
    "name": "ipython",
    "version": 3
   },
   "file_extension": ".py",
   "mimetype": "text/x-python",
   "name": "python",
   "nbconvert_exporter": "python",
   "pygments_lexer": "ipython3",
   "version": "3.8.3"
  },
  "latex_envs": {
   "LaTeX_envs_menu_present": true,
   "autoclose": false,
   "autocomplete": true,
   "bibliofile": "biblio.bib",
   "cite_by": "apalike",
   "current_citInitial": 1,
   "eqLabelWithNumbers": true,
   "eqNumInitial": 1,
   "hotkeys": {
    "equation": "Ctrl-E",
    "itemize": "Ctrl-I"
   },
   "labels_anchors": false,
   "latex_user_defs": false,
   "report_style_numbering": false,
   "user_envs_cfg": false
  },
  "nteract": {
   "version": "0.12.3"
  }
 },
 "nbformat": 4,
 "nbformat_minor": 2
}
