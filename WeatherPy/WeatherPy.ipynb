{
 "cells": [
  {
   "cell_type": "markdown",
   "metadata": {},
   "source": [
    "# WeatherPy\n",
    "----\n",
    "\n",
    "#### Note\n",
    "* Instructions have been included for each segment. You do not have to follow them exactly, but they are included to help you think through the steps."
   ]
  },
  {
   "cell_type": "markdown",
   "metadata": {},
   "source": [
    "### Observable Trends\n",
    "\n",
    "* From the analysis we can see that the highest temparature is found a 0 latitude and temperature drop is affected by latitude increase or decrease. This affects equatorial regions as they receive direct sunlight\n",
    "\n",
    "* Southern Hemisphere temparatures tend to be slightly milder in comparison to those at similar latitudes in the Northern Hemisphere. This could be attributed tothe Southern Hemisphere having significantly more ocean and much less land.\n",
    "\n",
    "* Also, Lattitude has no considerable impact on wind speed. The speed of the wind is controlled by the strength of the air pressure gradient, the stronger the pressure gradient the higher the wind speed."
   ]
  },
  {
   "cell_type": "code",
   "execution_count": 244,
   "metadata": {
    "scrolled": true
   },
   "outputs": [],
   "source": [
    "# Dependencies and Setup\n",
    "import matplotlib.pyplot as plt\n",
    "import pandas as pd\n",
    "import numpy as np\n",
    "import requests\n",
    "import time\n",
    "from scipy.stats import linregress\n",
    "\n",
    "# Import API key\n",
    "from api_keys import weather_api_key\n",
    "\n",
    "# Incorporated citipy to determine city based on latitude and longitude\n",
    "from citipy import citipy\n",
    "\n",
    "# Output File (CSV)\n",
    "output_data_file = \"output_data/cities.csv\"\n",
    "\n",
    "# Range of latitudes and longitudes\n",
    "lat_range = (-90, 90)\n",
    "lng_range = (-180, 180)"
   ]
  },
  {
   "cell_type": "markdown",
   "metadata": {},
   "source": [
    "## Generate Cities List"
   ]
  },
  {
   "cell_type": "code",
   "execution_count": 245,
   "metadata": {},
   "outputs": [
    {
     "data": {
      "text/plain": [
       "593"
      ]
     },
     "execution_count": 245,
     "metadata": {},
     "output_type": "execute_result"
    }
   ],
   "source": [
    "# List for holding lat_lngs and cities\n",
    "lat_lngs = []\n",
    "cities = []\n",
    "\n",
    "# Create a set of random lat and lng combinations\n",
    "lats = np.random.uniform(lat_range[0], lat_range[1], size=1500)\n",
    "lngs = np.random.uniform(lng_range[0], lng_range[1], size=1500)\n",
    "lat_lngs = zip(lats, lngs)\n",
    "\n",
    "# Identify nearest city for each lat, lng combination\n",
    "for lat_lng in lat_lngs:\n",
    "    city = citipy.nearest_city(lat_lng[0], lat_lng[1]).city_name\n",
    "    \n",
    "    # If the city is unique, then add it to a our cities list\n",
    "    if city not in cities:\n",
    "        cities.append(city)\n",
    "\n",
    "# Print the city count to confirm sufficient count\n",
    "len(cities)"
   ]
  },
  {
   "cell_type": "markdown",
   "metadata": {},
   "source": [
    "### Perform API Calls\n",
    "* Perform a weather check on each city using a series of successive API calls.\n",
    "* Include a print log of each city as it'sbeing processed (with the city number and city name).\n"
   ]
  },
  {
   "cell_type": "code",
   "execution_count": 246,
   "metadata": {},
   "outputs": [
    {
     "name": "stdout",
     "output_type": "stream",
     "text": [
      "Processing Record for City 1  | Hilo.\n",
      "Processing Record for City 2  | Glendive.\n",
      "Processing Record for City 3  | Puerto Ayora.\n",
      "Processing Record for City 4  | Norman Wells.\n",
      "Processing Record for City 5  | Coquimbo.\n",
      "Processing Record for City 6  | Clyde River.\n",
      "Processing Record for City 7  | Channel-Port aux Basques.\n",
      "Processing Record for City 8  | Nikolskoye.\n",
      "Processing Record for City 9  | Formosa do Rio Preto.\n",
      "City not found. Skipping...\n",
      "Processing Record for City 11  | George Town.\n",
      "Processing Record for City 12  | Ushuaia.\n",
      "Processing Record for City 13  | Lhokseumawe.\n",
      "Processing Record for City 14  | Airai.\n",
      "Processing Record for City 15  | Namatanai.\n",
      "Processing Record for City 16  | Busselton.\n",
      "Processing Record for City 17  | Lompoc.\n",
      "Processing Record for City 18  | Atuona.\n",
      "Processing Record for City 19  | Upata.\n",
      "Processing Record for City 20  | Bredasdorp.\n",
      "Processing Record for City 21  | Mitsamiouli.\n",
      "Processing Record for City 22  | Mataura.\n",
      "Processing Record for City 23  | Port Elizabeth.\n",
      "Processing Record for City 24  | Rikitea.\n",
      "Processing Record for City 25  | Lebu.\n",
      "Processing Record for City 26  | Shediac.\n",
      "Processing Record for City 27  | Qaanaaq.\n",
      "Processing Record for City 28  | Klaksvík.\n",
      "Processing Record for City 29  | Taltal.\n",
      "Processing Record for City 30  | San Rafael.\n",
      "Processing Record for City 31  | Ayan.\n",
      "Processing Record for City 32  | Upernavik.\n",
      "Processing Record for City 33  | New Norfolk.\n",
      "Processing Record for City 34  | Port Keats.\n",
      "Processing Record for City 35  | Kapaa.\n",
      "Processing Record for City 36  | Mehamn.\n",
      "Processing Record for City 37  | Mae Sot.\n",
      "Processing Record for City 38  | La Ronge.\n",
      "Processing Record for City 39  | Whitehorse.\n",
      "Processing Record for City 40  | Walvis Bay.\n",
      "Processing Record for City 41  | Paulo Afonso.\n",
      "Processing Record for City 42  | Hobart.\n",
      "Processing Record for City 43  | Kenai.\n",
      "Processing Record for City 44  | Punta Arenas.\n",
      "Processing Record for City 45  | Tuktoyaktuk.\n",
      "Processing Record for City 46  | Mareeba.\n",
      "Processing Record for City 47  | Saint Paul Harbor.\n",
      "Processing Record for City 48  | Nome.\n",
      "Processing Record for City 49  | Cape Town.\n",
      "Processing Record for City 50  | Kargasok.\n",
      "Processing Record for City 51  | Ganzhou.\n",
      "Processing Record for City 52  | Jamestown.\n",
      "City not found. Skipping...\n",
      "Processing Record for City 54  | Yellowknife.\n",
      "Processing Record for City 55  | Tomioka.\n",
      "Processing Record for City 56  | Kaeo.\n",
      "Processing Record for City 57  | Kahului.\n",
      "Processing Record for City 58  | Kehychivka.\n",
      "Processing Record for City 59  | Naze.\n",
      "City not found. Skipping...\n",
      "Processing Record for City 61  | Hong Kong.\n",
      "Processing Record for City 62  | Noumea.\n",
      "Processing Record for City 63  | Geraldton.\n",
      "Processing Record for City 64  | Bluff.\n",
      "Processing Record for City 65  | Ribeira Grande.\n",
      "Processing Record for City 66  | Barrow.\n",
      "Processing Record for City 67  | Port Alfred.\n",
      "Processing Record for City 68  | Burns Lake.\n",
      "Processing Record for City 69  | São Filipe.\n",
      "Processing Record for City 70  | Mogadishu.\n",
      "Processing Record for City 71  | Mount Isa.\n",
      "Processing Record for City 72  | Luanda.\n",
      "Processing Record for City 73  | Chicama.\n",
      "Processing Record for City 74  | Sibolga.\n",
      "Processing Record for City 75  | Acajutla.\n",
      "Processing Record for City 76  | Saldanha.\n",
      "Processing Record for City 77  | Castro.\n",
      "Processing Record for City 78  | Santiago del Estero.\n",
      "City not found. Skipping...\n",
      "Processing Record for City 80  | Imbituba.\n",
      "Processing Record for City 81  | Boende.\n",
      "Processing Record for City 82  | Carutapera.\n",
      "Processing Record for City 83  | Dikson.\n",
      "Processing Record for City 84  | Albany.\n",
      "City not found. Skipping...\n",
      "Processing Record for City 86  | Mahébourg.\n",
      "Processing Record for City 87  | Sehithwa.\n",
      "City not found. Skipping...\n",
      "Processing Record for City 89  | Vaini.\n",
      "Processing Record for City 90  | Fukuechō.\n",
      "Processing Record for City 91  | Barguzin.\n",
      "Processing Record for City 92  | Provideniya.\n",
      "Processing Record for City 93  | Cockburn Town.\n",
      "Processing Record for City 94  | Kaitangata.\n",
      "Processing Record for City 95  | Cap Malheureux.\n",
      "Processing Record for City 96  | Vila Velha.\n",
      "City not found. Skipping...\n",
      "Processing Record for City 98  | Saskylakh.\n",
      "Processing Record for City 99  | Philadelphia.\n",
      "Processing Record for City 100  | Khatanga.\n",
      "Processing Record for City 101  | San Francisco.\n",
      "Processing Record for City 102  | Campo Grande.\n",
      "Processing Record for City 103  | Vestmannaeyjar.\n",
      "Processing Record for City 104  | Pericos.\n",
      "Processing Record for City 105  | Esperance.\n",
      "Processing Record for City 106  | Port Hawkesbury.\n",
      "City not found. Skipping...\n",
      "Processing Record for City 108  | Chernyshevskiy.\n",
      "Processing Record for City 109  | Rørvik.\n",
      "Processing Record for City 110  | Sinzheim.\n",
      "Processing Record for City 111  | Kampene.\n",
      "Processing Record for City 112  | Henties Bay.\n",
      "Processing Record for City 113  | Trairi.\n",
      "Processing Record for City 114  | Faanui.\n",
      "Processing Record for City 115  | Kapit.\n",
      "Processing Record for City 116  | Tirumullaivāsal.\n",
      "Processing Record for City 117  | Mazabuka.\n",
      "Processing Record for City 118  | Xining.\n",
      "Processing Record for City 119  | Tiruchchendur.\n",
      "Processing Record for City 120  | Hambantota.\n",
      "Processing Record for City 121  | Megion.\n",
      "Processing Record for City 122  | Montevideo.\n",
      "Processing Record for City 123  | Pitimbu.\n",
      "Processing Record for City 124  | San Cristobal.\n",
      "Processing Record for City 125  | Ixtapa.\n",
      "Processing Record for City 126  | Petropavlovka.\n",
      "Processing Record for City 127  | Butaritari.\n",
      "Processing Record for City 128  | Orissaare.\n",
      "City not found. Skipping...\n",
      "Processing Record for City 130  | Khovd.\n",
      "Processing Record for City 131  | Saint-Augustin.\n",
      "Processing Record for City 132  | Lavrentiya.\n",
      "Processing Record for City 133  | Vanimo.\n",
      "City not found. Skipping...\n",
      "Processing Record for City 135  | Mezen'.\n",
      "Processing Record for City 136  | Longyearbyen.\n",
      "Processing Record for City 137  | Port Macquarie.\n",
      "Processing Record for City 138  | Chokurdakh.\n",
      "Processing Record for City 139  | Płock.\n",
      "Processing Record for City 140  | Lamar.\n",
      "Processing Record for City 141  | Puerto Madryn.\n",
      "Processing Record for City 142  | Takoradze.\n",
      "City not found. Skipping...\n",
      "Processing Record for City 144  | Kavieng.\n",
      "Processing Record for City 145  | São João da Barra.\n",
      "Processing Record for City 146  | Sinnamary.\n",
      "Processing Record for City 147  | Lyaskelya.\n",
      "Processing Record for City 148  | Caravelas.\n",
      "Processing Record for City 149  | Tuatapere.\n",
      "Processing Record for City 150  | Khudumelapye.\n",
      "Processing Record for City 151  | Talnakh.\n",
      "Processing Record for City 152  | San Quintín.\n",
      "Processing Record for City 153  | Torbay.\n",
      "Processing Record for City 154  | Kununurra.\n",
      "Processing Record for City 155  | Port-Gentil.\n",
      "Processing Record for City 156  | Kruisfontein.\n",
      "Processing Record for City 157  | Arraial do Cabo.\n",
      "Processing Record for City 158  | ‘Ewa Beach.\n",
      "Processing Record for City 159  | Kloulklubed.\n",
      "Processing Record for City 160  | Meulaboh.\n",
      "Processing Record for City 161  | Vega de Alatorre.\n",
      "Processing Record for City 162  | Sīwah.\n",
      "Processing Record for City 163  | Siderno.\n",
      "Processing Record for City 164  | Sault Ste. Marie.\n",
      "Processing Record for City 165  | Qasigiannguit.\n",
      "Processing Record for City 166  | Saint-Joseph.\n",
      "Processing Record for City 167  | Hasaki.\n",
      "Processing Record for City 168  | Cabo San Lucas.\n",
      "Processing Record for City 169  | Portland.\n",
      "Processing Record for City 170  | Singaraja.\n",
      "Processing Record for City 171  | Nabire.\n",
      "Processing Record for City 172  | Saint John.\n",
      "Processing Record for City 173  | Codrington.\n",
      "Processing Record for City 174  | San Patricio.\n",
      "Processing Record for City 175  | Sivas Province.\n",
      "Processing Record for City 176  | Aklavik.\n",
      "Processing Record for City 177  | Avarua.\n",
      "Processing Record for City 178  | Roald.\n",
      "City not found. Skipping...\n",
      "Processing Record for City 180  | Kieta.\n",
      "Processing Record for City 181  | Tiksi.\n",
      "Processing Record for City 182  | Tateyama.\n",
      "Processing Record for City 183  | West Wendover.\n",
      "Processing Record for City 184  | Oranjemund.\n",
      "Processing Record for City 185  | Thompson.\n",
      "Processing Record for City 186  | Jutaí.\n",
      "Processing Record for City 187  | Kawalu.\n",
      "Processing Record for City 188  | Narsaq.\n",
      "Processing Record for City 189  | Quatre Cocos.\n"
     ]
    },
    {
     "name": "stdout",
     "output_type": "stream",
     "text": [
      "Processing Record for City 190  | Sovetskiy.\n",
      "Processing Record for City 191  | Shelui.\n",
      "Processing Record for City 192  | Fayaoué.\n",
      "Processing Record for City 193  | Parma.\n",
      "Processing Record for City 194  | Kawambwa.\n",
      "Processing Record for City 195  | Rock Sound.\n",
      "City not found. Skipping...\n",
      "Processing Record for City 197  | Anchorage.\n",
      "Processing Record for City 198  | Kampot.\n",
      "Processing Record for City 199  | Mola di Bari.\n",
      "Processing Record for City 200  | Vigo.\n",
      "Processing Record for City 201  | Ponta Delgada.\n",
      "Processing Record for City 202  | Batavia.\n",
      "Processing Record for City 203  | Madingou.\n",
      "Processing Record for City 204  | Nanortalik.\n",
      "Processing Record for City 205  | Tolbazy.\n",
      "Processing Record for City 206  | Paciran.\n",
      "Processing Record for City 207  | Mar del Plata.\n",
      "Processing Record for City 208  | Plettenberg Bay.\n",
      "Processing Record for City 209  | Khani.\n",
      "Processing Record for City 210  | Pisco.\n",
      "Processing Record for City 211  | Manokwari.\n",
      "Processing Record for City 212  | Bend.\n",
      "Processing Record for City 213  | Chui.\n",
      "Processing Record for City 214  | Nueve de Julio.\n",
      "Processing Record for City 215  | Atbasar.\n",
      "City not found. Skipping...\n",
      "Processing Record for City 217  | Kavaratti.\n",
      "Processing Record for City 218  | Khorramshahr.\n",
      "Processing Record for City 219  | Moundsville.\n",
      "Processing Record for City 220  | Laguna.\n",
      "Processing Record for City 221  | Sayyan.\n",
      "Processing Record for City 222  | Voznesen'ye.\n",
      "Processing Record for City 223  | São José da Coroa Grande.\n",
      "Processing Record for City 224  | Shimorskoye.\n",
      "Processing Record for City 225  | Opuwo.\n",
      "Processing Record for City 226  | Quelimane.\n",
      "Processing Record for City 227  | Lüderitz.\n",
      "Processing Record for City 228  | Bengkulu.\n",
      "Processing Record for City 229  | Gold Coast.\n",
      "Processing Record for City 230  | Gillette.\n",
      "Processing Record for City 231  | Alofi.\n",
      "Processing Record for City 232  | Katsuura.\n",
      "Processing Record for City 233  | Vila.\n",
      "Processing Record for City 234  | Lovozero.\n",
      "Processing Record for City 235  | Hermanus.\n",
      "Processing Record for City 236  | Howell.\n",
      "Processing Record for City 237  | Itupiranga.\n",
      "Processing Record for City 238  | Jos.\n",
      "Processing Record for City 239  | Cidreira.\n",
      "City not found. Skipping...\n",
      "Processing Record for City 241  | Cayenne.\n",
      "Processing Record for City 242  | Tura.\n",
      "Processing Record for City 243  | Diego de Almagro.\n",
      "Processing Record for City 244  | Mitzic.\n",
      "Processing Record for City 245  | Maheshwar.\n",
      "Processing Record for City 246  | Severo-Kuril'sk.\n",
      "Processing Record for City 247  | Alta Floresta.\n",
      "Processing Record for City 248  | Mana.\n",
      "Processing Record for City 249  | Brae.\n",
      "Processing Record for City 250  | Saint George.\n",
      "Processing Record for City 251  | Lata.\n",
      "Processing Record for City 252  | Rawson.\n",
      "Processing Record for City 253  | Canyon Lake.\n",
      "Processing Record for City 254  | Cherskiy.\n",
      "Processing Record for City 255  | Krasnyy Kut.\n",
      "Processing Record for City 256  | North Platte.\n",
      "Processing Record for City 257  | Carnarvon.\n",
      "Processing Record for City 258  | Korla.\n",
      "Processing Record for City 259  | Guánica.\n",
      "Processing Record for City 260  | Saint-François.\n",
      "Processing Record for City 261  | Santa Isabel Rio Negro.\n",
      "City not found. Skipping...\n",
      "Processing Record for City 263  | Leningradskiy.\n",
      "Processing Record for City 264  | Rocha.\n",
      "Processing Record for City 265  | Labuhan.\n",
      "Processing Record for City 266  | Yerbogachën.\n",
      "Processing Record for City 267  | Ostrovnoy.\n",
      "Processing Record for City 268  | Esmeraldas.\n",
      "Processing Record for City 269  | Nāgod.\n",
      "Processing Record for City 270  | Khandyga.\n",
      "Processing Record for City 271  | Craig.\n",
      "Processing Record for City 272  | Srednekolymsk.\n",
      "Processing Record for City 273  | Ilulissat.\n",
      "Processing Record for City 274  | Khandagayty.\n",
      "Processing Record for City 275  | Cervo.\n",
      "Processing Record for City 276  | Nhulunbuy.\n",
      "Processing Record for City 277  | Villanueva de la Serena.\n",
      "Processing Record for City 278  | Souillac.\n",
      "Processing Record for City 279  | East London.\n",
      "Processing Record for City 280  | Massaguet.\n",
      "Processing Record for City 281  | Leer.\n",
      "City not found. Skipping...\n",
      "Processing Record for City 283  | Sept-Îles.\n",
      "Processing Record for City 284  | Americus.\n",
      "Processing Record for City 285  | Marystown.\n",
      "Processing Record for City 286  | Tarquinia.\n",
      "Processing Record for City 287  | Giohar.\n",
      "Processing Record for City 288  | Avera.\n",
      "Processing Record for City 289  | Ponta do Sol.\n",
      "Processing Record for City 290  | Port Blair.\n",
      "Processing Record for City 291  | Shalakusha.\n",
      "Processing Record for City 292  | Inuvik.\n",
      "Processing Record for City 293  | Tasiilaq.\n",
      "Processing Record for City 294  | Port Hardy.\n",
      "City not found. Skipping...\n",
      "Processing Record for City 296  | Ilinge.\n",
      "City not found. Skipping...\n",
      "Processing Record for City 298  | Monster.\n",
      "City not found. Skipping...\n",
      "Processing Record for City 300  | Satara.\n",
      "Processing Record for City 301  | Terney.\n",
      "Processing Record for City 302  | Kiruna.\n",
      "Processing Record for City 303  | Eilat.\n",
      "City not found. Skipping...\n",
      "Processing Record for City 305  | Broken Hill.\n",
      "Processing Record for City 306  | Vao.\n",
      "Processing Record for City 307  | Benjamín Aceval.\n",
      "Processing Record for City 308  | College.\n",
      "Processing Record for City 309  | Salalah.\n",
      "Processing Record for City 310  | Novaya Ladoga.\n",
      "Processing Record for City 311  | Sabzawār.\n",
      "Processing Record for City 312  | Ati.\n",
      "Processing Record for City 313  | Vanavara.\n",
      "Processing Record for City 314  | Fort Nelson.\n",
      "Processing Record for City 315  | Kozhevnikovo.\n",
      "City not found. Skipping...\n",
      "Processing Record for City 317  | Águas Formosas.\n",
      "Processing Record for City 318  | Sungurlu.\n",
      "Processing Record for City 319  | Lake Cowichan.\n",
      "Processing Record for City 320  | Manaure.\n",
      "Processing Record for City 321  | Kudahuvadhoo.\n",
      "Processing Record for City 322  | Karaton.\n",
      "Processing Record for City 323  | São Félix do Xingu.\n",
      "Processing Record for City 324  | Chancay.\n",
      "Processing Record for City 325  | Vostok.\n",
      "Processing Record for City 326  | Tarakan.\n",
      "Processing Record for City 327  | Bathsheba.\n",
      "Processing Record for City 328  | Olinda.\n",
      "Processing Record for City 329  | Constitución.\n",
      "Processing Record for City 330  | Saint-Philippe.\n",
      "Processing Record for City 331  | Fare.\n",
      "City not found. Skipping...\n",
      "Processing Record for City 333  | Presidencia Roque Sáenz Peña.\n",
      "Processing Record for City 334  | Port Hedland.\n",
      "Processing Record for City 335  | Camacha.\n",
      "Processing Record for City 336  | Sidi Ali.\n",
      "Processing Record for City 337  | São Francisco.\n",
      "Processing Record for City 338  | Sitka.\n",
      "Processing Record for City 339  | Prado.\n",
      "Processing Record for City 340  | Gondanglegi.\n",
      "Processing Record for City 341  | Corpus Christi.\n",
      "Processing Record for City 342  | Beyneu.\n",
      "Processing Record for City 343  | Maniitsoq.\n",
      "Processing Record for City 344  | Ahipara.\n",
      "Processing Record for City 345  | Concepción del Oro.\n",
      "Processing Record for City 346  | Arlit.\n",
      "City not found. Skipping...\n",
      "Processing Record for City 348  | Sibu.\n",
      "Processing Record for City 349  | Belmonte.\n",
      "Processing Record for City 350  | Maciel.\n",
      "Processing Record for City 351  | Port Lincoln.\n",
      "Processing Record for City 352  | Bay Roberts.\n",
      "Processing Record for City 353  | Ternate.\n",
      "Processing Record for City 354  | Tobol.\n",
      "Processing Record for City 355  | Richards Bay.\n",
      "Processing Record for City 356  | Westport.\n",
      "Processing Record for City 357  | Yagodnoye.\n",
      "Processing Record for City 358  | Colares.\n",
      "Processing Record for City 359  | Mmathubudukwane.\n",
      "Processing Record for City 360  | Babol.\n",
      "Processing Record for City 361  | Lagoa.\n",
      "Processing Record for City 362  | Luanshya.\n",
      "Processing Record for City 363  | Pevek.\n",
      "Processing Record for City 364  | Alyangula.\n",
      "Processing Record for City 365  | Bubaque.\n",
      "City not found. Skipping...\n",
      "Processing Record for City 367  | Ballitoville.\n",
      "Processing Record for City 368  | Kralendijk.\n",
      "Processing Record for City 369  | São Desidério.\n",
      "Processing Record for City 370  | Mabaruma.\n",
      "Processing Record for City 371  | Teya.\n",
      "Processing Record for City 372  | Hithadhoo.\n",
      "Processing Record for City 373  | Soyo.\n",
      "Processing Record for City 374  | Hamilton.\n",
      "Processing Record for City 375  | Amga.\n",
      "Processing Record for City 376  | Maţāy.\n",
      "Processing Record for City 377  | Botngård.\n"
     ]
    },
    {
     "name": "stdout",
     "output_type": "stream",
     "text": [
      "Processing Record for City 378  | Saint-Ambroise.\n",
      "Processing Record for City 379  | São Joaquim.\n",
      "Processing Record for City 380  | Moindou.\n",
      "Processing Record for City 381  | Punta de Piedra.\n",
      "Processing Record for City 382  | Mlimba.\n",
      "Processing Record for City 383  | Surab.\n",
      "Processing Record for City 384  | Province of Trapani.\n",
      "Processing Record for City 385  | Pilar.\n",
      "Processing Record for City 386  | Niamey.\n",
      "City not found. Skipping...\n",
      "Processing Record for City 388  | Tam Ky.\n",
      "City not found. Skipping...\n",
      "Processing Record for City 390  | Shakawe.\n",
      "Processing Record for City 391  | Hailey.\n",
      "Processing Record for City 392  | Bethel.\n",
      "Processing Record for City 393  | Baghmara.\n",
      "Processing Record for City 394  | Altoona.\n",
      "Processing Record for City 395  | Broome.\n",
      "City not found. Skipping...\n",
      "Processing Record for City 397  | Zyryanka.\n",
      "Processing Record for City 398  | Innisfail.\n",
      "Processing Record for City 399  | Santa Lucía.\n",
      "Processing Record for City 400  | Oriximiná.\n",
      "Processing Record for City 401  | Araouane.\n",
      "Processing Record for City 402  | Murfreesboro.\n",
      "City not found. Skipping...\n",
      "Processing Record for City 404  | Mangit.\n",
      "Processing Record for City 405  | Lueta.\n",
      "Processing Record for City 406  | Hoquiam.\n",
      "City not found. Skipping...\n",
      "Processing Record for City 408  | Kaligutan.\n",
      "Processing Record for City 409  | Goderich.\n",
      "Processing Record for City 410  | Manono.\n",
      "Processing Record for City 411  | Wuwei.\n",
      "Processing Record for City 412  | Scottsbluff.\n",
      "Processing Record for City 413  | Valparaíso.\n",
      "Processing Record for City 414  | Gambēla.\n",
      "Processing Record for City 415  | Kiunga.\n",
      "Processing Record for City 416  | Aktobe.\n",
      "Processing Record for City 417  | Poum.\n",
      "Processing Record for City 418  | Caibarién.\n",
      "Processing Record for City 419  | Nuuk.\n",
      "Processing Record for City 420  | Romanovo.\n",
      "Processing Record for City 421  | Arrondissement du Havre.\n",
      "Processing Record for City 422  | Bremerton.\n",
      "Processing Record for City 423  | Zhigansk.\n",
      "Processing Record for City 424  | Monchegorsk.\n",
      "Processing Record for City 425  | Haines Junction.\n",
      "Processing Record for City 426  | Chibuto.\n",
      "Processing Record for City 427  | Comodoro Rivadavia.\n",
      "Processing Record for City 428  | Choix.\n",
      "Processing Record for City 429  | Touros.\n",
      "Processing Record for City 430  | Kisangani.\n",
      "Processing Record for City 431  | Bonnyville.\n",
      "Processing Record for City 432  | Muncar.\n",
      "Processing Record for City 433  | Navalmoral de la Mata.\n",
      "Processing Record for City 434  | Nirmal.\n",
      "Processing Record for City 435  | Jumla.\n",
      "Processing Record for City 436  | Leh.\n",
      "Processing Record for City 437  | Dali.\n",
      "Processing Record for City 438  | Intipucá.\n",
      "Processing Record for City 439  | Lingdong.\n",
      "Processing Record for City 440  | Show Low.\n",
      "Processing Record for City 441  | Kindu.\n",
      "Processing Record for City 442  | San Juan.\n",
      "Processing Record for City 443  | Birao.\n",
      "Processing Record for City 444  | Breytovo.\n",
      "Processing Record for City 445  | Tshikapa.\n",
      "Processing Record for City 446  | Creston.\n",
      "Processing Record for City 447  | Teguise.\n",
      "Processing Record for City 448  | Orocué.\n",
      "Processing Record for City 449  | Abu Dhabi.\n",
      "Processing Record for City 450  | Chunoyar.\n",
      "Processing Record for City 451  | Härnösand.\n",
      "Processing Record for City 452  | Jatibonico.\n",
      "Processing Record for City 453  | Pimentel.\n",
      "Processing Record for City 454  | Santa Rosa.\n",
      "Processing Record for City 455  | Rancho Palos Verdes.\n",
      "Processing Record for City 456  | Neiafu.\n",
      "Processing Record for City 457  | Makat.\n",
      "Processing Record for City 458  | Rehoboth.\n",
      "Processing Record for City 459  | Ust'-Uda.\n",
      "Processing Record for City 460  | Lermontovka.\n",
      "City not found. Skipping...\n",
      "Processing Record for City 462  | Dori.\n",
      "Processing Record for City 463  | Andenes.\n",
      "Processing Record for City 464  | Egvekinot.\n",
      "Processing Record for City 465  | Praia da Vitória.\n",
      "Processing Record for City 466  | La Rioja.\n",
      "Processing Record for City 467  | Sungai Penuh.\n",
      "Processing Record for City 468  | Uruçuí.\n",
      "Processing Record for City 469  | Pangnirtung.\n",
      "City not found. Skipping...\n",
      "Processing Record for City 471  | Asău.\n",
      "Processing Record for City 472  | Blagoyevo.\n",
      "Processing Record for City 473  | Kosino.\n",
      "Processing Record for City 474  | Mossamedes.\n",
      "Processing Record for City 475  | Ancud.\n",
      "Processing Record for City 476  | Mount Gambier.\n",
      "Processing Record for City 477  | Toora-Khem.\n",
      "Processing Record for City 478  | Shubarkuduk.\n",
      "Processing Record for City 479  | Kasempa.\n",
      "Processing Record for City 480  | Clovis.\n",
      "Processing Record for City 481  | Honiara.\n",
      "Processing Record for City 482  | Manta.\n",
      "Processing Record for City 483  | Moose Factory.\n",
      "Processing Record for City 484  | Palmas Bellas.\n",
      "City not found. Skipping...\n",
      "Processing Record for City 486  | Shelburne.\n",
      "Processing Record for City 487  | Aborlan.\n",
      "Processing Record for City 488  | Petropavlovsk-Kamchatskiy.\n",
      "Processing Record for City 489  | Isangel.\n",
      "Processing Record for City 490  | Miles City.\n",
      "City not found. Skipping...\n",
      "Processing Record for City 492  | Chara.\n",
      "Processing Record for City 493  | Winneba.\n",
      "Processing Record for City 494  | Lødingen.\n",
      "Processing Record for City 495  | Tongliao.\n",
      "Processing Record for City 496  | Port Townsend.\n",
      "Processing Record for City 497  | Grenville.\n",
      "Processing Record for City 498  | Talcahuano.\n",
      "Processing Record for City 499  | Tongchuanshi.\n",
      "Processing Record for City 500  | Suez.\n",
      "Processing Record for City 501  | Dingle.\n",
      "Processing Record for City 502  | Solnechnyy.\n",
      "Processing Record for City 503  | San Ramon.\n",
      "Processing Record for City 504  | Buin.\n",
      "Processing Record for City 505  | Okha.\n",
      "Processing Record for City 506  | Waddān.\n",
      "Processing Record for City 507  | Amahai.\n",
      "Processing Record for City 508  | Marawi.\n",
      "Processing Record for City 509  | Kaoma.\n",
      "Processing Record for City 510  | Heiligenhafen.\n",
      "Processing Record for City 511  | Inhambane.\n",
      "Processing Record for City 512  | Skjervøy.\n",
      "Processing Record for City 513  | Felanitx.\n",
      "Processing Record for City 514  | Karratha.\n",
      "Processing Record for City 515  | Mehrān.\n",
      "Processing Record for City 516  | Buraidah.\n",
      "Processing Record for City 517  | Chillicothe.\n",
      "Processing Record for City 518  | Troitskoye.\n",
      "Processing Record for City 519  | Wattegama.\n",
      "Processing Record for City 520  | The Valley.\n",
      "Processing Record for City 521  | Road Town.\n",
      "Processing Record for City 522  | Hofn.\n",
      "Processing Record for City 523  | Vila Franca do Campo.\n",
      "Processing Record for City 524  | Nizhnevartovsk.\n",
      "Processing Record for City 525  | Benguela.\n",
      "Processing Record for City 526  | Umluj.\n",
      "Processing Record for City 527  | Shirokiy.\n",
      "Processing Record for City 528  | Abu Samrah.\n",
      "Processing Record for City 529  | Sechura.\n",
      "City not found. Skipping...\n",
      "Processing Record for City 531  | Jāwā.\n",
      "Processing Record for City 532  | Ikom.\n",
      "Processing Record for City 533  | Safaga.\n",
      "Processing Record for City 534  | Majene.\n",
      "Processing Record for City 535  | Katobu.\n",
      "Processing Record for City 536  | Salinópolis.\n",
      "Processing Record for City 537  | Ende.\n",
      "Processing Record for City 538  | Ziro.\n",
      "Processing Record for City 539  | Behbahān.\n",
      "Processing Record for City 540  | Chippewa Falls.\n",
      "Processing Record for City 541  | Half Moon Bay.\n",
      "Processing Record for City 542  | Ormara.\n",
      "Processing Record for City 543  | Nivala.\n",
      "Processing Record for City 544  | Imphal.\n",
      "Processing Record for City 545  | Sabang.\n",
      "Processing Record for City 546  | George Town.\n",
      "Processing Record for City 547  | Portobelo.\n",
      "Processing Record for City 548  | Correntina.\n",
      "Processing Record for City 549  | Kidal.\n",
      "Processing Record for City 550  | Krasnyy.\n",
      "Processing Record for City 551  | Lyuban'.\n",
      "Processing Record for City 552  | Aleksandrovskoye.\n",
      "Processing Record for City 553  | Adzhamka.\n",
      "City not found. Skipping...\n",
      "Processing Record for City 555  | Casma.\n",
      "City not found. Skipping...\n",
      "City not found. Skipping...\n",
      "Processing Record for City 558  | Rio Casca.\n",
      "Processing Record for City 559  | Ingham.\n",
      "Processing Record for City 560  | Miyazu.\n",
      "Processing Record for City 561  | Sobolevo.\n",
      "Processing Record for City 562  | Steinbach am Taunus.\n",
      "Processing Record for City 563  | Havre-St-Pierre.\n",
      "Processing Record for City 564  | Anzio.\n",
      "Processing Record for City 565  | Aberdeen.\n",
      "Processing Record for City 566  | Koungou.\n",
      "Processing Record for City 567  | Constantine.\n"
     ]
    },
    {
     "name": "stdout",
     "output_type": "stream",
     "text": [
      "Processing Record for City 568  | Sohag.\n",
      "Processing Record for City 569  | Tessalit.\n",
      "Processing Record for City 570  | Chase.\n",
      "Processing Record for City 571  | Stornoway.\n",
      "Processing Record for City 572  | Puerto Vallarta.\n",
      "Processing Record for City 573  | Verāval.\n",
      "City not found. Skipping...\n",
      "Processing Record for City 575  | Liverpool.\n",
      "Processing Record for City 576  | Tolga.\n",
      "Processing Record for City 577  | Lumberton.\n",
      "Processing Record for City 578  | Paita.\n",
      "Processing Record for City 579  | Sosnogorsk.\n",
      "Processing Record for City 580  | Morales.\n",
      "Processing Record for City 581  | Faya.\n",
      "City not found. Skipping...\n",
      "Processing Record for City 583  | Seidu.\n",
      "Processing Record for City 584  | Taunggyi.\n",
      "Processing Record for City 585  | Yulara.\n",
      "Processing Record for City 586  | Bandarbeyla.\n",
      "Processing Record for City 587  | Chumikan.\n",
      "Processing Record for City 588  | Durango.\n",
      "City not found. Skipping...\n",
      "Processing Record for City 590  | Turiaçu.\n",
      "Processing Record for City 591  | Byron Bay.\n",
      "Processing Record for City 592  | Banes.\n",
      "Processing Record for City 593  | North Branch.\n"
     ]
    }
   ],
   "source": [
    "#Get the base url to pull the api request \n",
    "base_url = \"http://api.openweathermap.org/data/2.5/weather?\"\n",
    "\n",
    "#List to hold weather info\n",
    "city_data = []\n",
    "units = \"imperial\"\n",
    "count = 1\n",
    "\n",
    "# loop throught all the cities and append to city list\n",
    "for city in cities:\n",
    "    \n",
    "    #Create search query, make request and store in json\n",
    "    response = requests.get(base_url + \"appid=\" + weather_api_key + \"&q=\" + city +\"&units=\" + units).json()\n",
    "    \n",
    "    # Add a one second interval between queries to stay within API query limits\n",
    "    time.sleep(1)\n",
    "    \n",
    "    try:\n",
    "        print(f\"Processing Record for City {count}  | {response['name']}.\")\n",
    "        \n",
    "        name = response['name']\n",
    "        lat = response['coord']['lat']\n",
    "        lng = response['coord']['lon']\n",
    "        max_temp = response['main']['temp_max']\n",
    "        Humidity = response['main']['humidity']\n",
    "        cloud = response['clouds']['all']\n",
    "        wind_speed = response['wind']['speed']\n",
    "        country = response['sys']['country']\n",
    "        date = response['dt']\n",
    "        city_data.append({\"City\": name,\"Lat\": lat, \"Lng\" : lng, \"Max Temp(F)\" :max_temp,\"Humidity\": Humidity ,\"Cloudiness\": cloud, \"Wind Speed\" : wind_speed,\"Country\" : country, \"Date\" :date })\n",
    "\n",
    "    except (KeyError, IndexError):\n",
    "        print(\"City not found. Skipping...\")\n",
    "    count = count + 1\n",
    "        "
   ]
  },
  {
   "cell_type": "markdown",
   "metadata": {},
   "source": [
    "### Convert Raw Data to DataFrame\n",
    "* Export the city data into a .csv.\n",
    "* Display the DataFrame"
   ]
  },
  {
   "cell_type": "code",
   "execution_count": 247,
   "metadata": {},
   "outputs": [
    {
     "data": {
      "text/html": [
       "<div>\n",
       "<style scoped>\n",
       "    .dataframe tbody tr th:only-of-type {\n",
       "        vertical-align: middle;\n",
       "    }\n",
       "\n",
       "    .dataframe tbody tr th {\n",
       "        vertical-align: top;\n",
       "    }\n",
       "\n",
       "    .dataframe thead th {\n",
       "        text-align: right;\n",
       "    }\n",
       "</style>\n",
       "<table border=\"1\" class=\"dataframe\">\n",
       "  <thead>\n",
       "    <tr style=\"text-align: right;\">\n",
       "      <th></th>\n",
       "      <th>City</th>\n",
       "      <th>Lat</th>\n",
       "      <th>Lng</th>\n",
       "      <th>Max Temp(F)</th>\n",
       "      <th>Humidity</th>\n",
       "      <th>Cloudiness</th>\n",
       "      <th>Wind Speed</th>\n",
       "      <th>Country</th>\n",
       "      <th>Date</th>\n",
       "    </tr>\n",
       "  </thead>\n",
       "  <tbody>\n",
       "    <tr>\n",
       "      <th>0</th>\n",
       "      <td>Hilo</td>\n",
       "      <td>19.73</td>\n",
       "      <td>-155.09</td>\n",
       "      <td>84.2</td>\n",
       "      <td>58</td>\n",
       "      <td>1</td>\n",
       "      <td>11.41</td>\n",
       "      <td>US</td>\n",
       "      <td>1607303597</td>\n",
       "    </tr>\n",
       "    <tr>\n",
       "      <th>1</th>\n",
       "      <td>Glendive</td>\n",
       "      <td>47.11</td>\n",
       "      <td>-104.71</td>\n",
       "      <td>36.0</td>\n",
       "      <td>66</td>\n",
       "      <td>1</td>\n",
       "      <td>9.17</td>\n",
       "      <td>US</td>\n",
       "      <td>1607304253</td>\n",
       "    </tr>\n",
       "    <tr>\n",
       "      <th>2</th>\n",
       "      <td>Puerto Ayora</td>\n",
       "      <td>-0.74</td>\n",
       "      <td>-90.35</td>\n",
       "      <td>72.0</td>\n",
       "      <td>91</td>\n",
       "      <td>72</td>\n",
       "      <td>3.00</td>\n",
       "      <td>EC</td>\n",
       "      <td>1607303963</td>\n",
       "    </tr>\n",
       "    <tr>\n",
       "      <th>3</th>\n",
       "      <td>Norman Wells</td>\n",
       "      <td>65.28</td>\n",
       "      <td>-126.83</td>\n",
       "      <td>1.4</td>\n",
       "      <td>84</td>\n",
       "      <td>90</td>\n",
       "      <td>3.36</td>\n",
       "      <td>CA</td>\n",
       "      <td>1607304161</td>\n",
       "    </tr>\n",
       "    <tr>\n",
       "      <th>4</th>\n",
       "      <td>Coquimbo</td>\n",
       "      <td>-29.95</td>\n",
       "      <td>-71.34</td>\n",
       "      <td>57.2</td>\n",
       "      <td>82</td>\n",
       "      <td>75</td>\n",
       "      <td>8.05</td>\n",
       "      <td>CL</td>\n",
       "      <td>1607303908</td>\n",
       "    </tr>\n",
       "  </tbody>\n",
       "</table>\n",
       "</div>"
      ],
      "text/plain": [
       "           City    Lat     Lng  Max Temp(F)  Humidity  Cloudiness  Wind Speed  \\\n",
       "0          Hilo  19.73 -155.09         84.2        58           1       11.41   \n",
       "1      Glendive  47.11 -104.71         36.0        66           1        9.17   \n",
       "2  Puerto Ayora  -0.74  -90.35         72.0        91          72        3.00   \n",
       "3  Norman Wells  65.28 -126.83          1.4        84          90        3.36   \n",
       "4      Coquimbo -29.95  -71.34         57.2        82          75        8.05   \n",
       "\n",
       "  Country        Date  \n",
       "0      US  1607303597  \n",
       "1      US  1607304253  \n",
       "2      EC  1607303963  \n",
       "3      CA  1607304161  \n",
       "4      CL  1607303908  "
      ]
     },
     "execution_count": 247,
     "metadata": {},
     "output_type": "execute_result"
    }
   ],
   "source": [
    "#From the city append above, create a Dataframe\n",
    "city_df = pd.DataFrame (city_data)\n",
    "city_df.head()"
   ]
  },
  {
   "cell_type": "code",
   "execution_count": 272,
   "metadata": {},
   "outputs": [],
   "source": [
    "# Push the DataFrame to a new CSV file\n",
    "city_df.to_csv(\"../output_data/cities.csv\",\n",
    "                  encoding=\"utf-8\", index=False, header=True)"
   ]
  },
  {
   "cell_type": "code",
   "execution_count": 249,
   "metadata": {},
   "outputs": [
    {
     "data": {
      "text/html": [
       "<div>\n",
       "<style scoped>\n",
       "    .dataframe tbody tr th:only-of-type {\n",
       "        vertical-align: middle;\n",
       "    }\n",
       "\n",
       "    .dataframe tbody tr th {\n",
       "        vertical-align: top;\n",
       "    }\n",
       "\n",
       "    .dataframe thead th {\n",
       "        text-align: right;\n",
       "    }\n",
       "</style>\n",
       "<table border=\"1\" class=\"dataframe\">\n",
       "  <thead>\n",
       "    <tr style=\"text-align: right;\">\n",
       "      <th></th>\n",
       "      <th>Lat</th>\n",
       "      <th>Lng</th>\n",
       "      <th>Max Temp(F)</th>\n",
       "      <th>Humidity</th>\n",
       "      <th>Cloudiness</th>\n",
       "      <th>Wind Speed</th>\n",
       "      <th>Date</th>\n",
       "    </tr>\n",
       "  </thead>\n",
       "  <tbody>\n",
       "    <tr>\n",
       "      <th>count</th>\n",
       "      <td>552.000000</td>\n",
       "      <td>552.000000</td>\n",
       "      <td>552.00000</td>\n",
       "      <td>552.000000</td>\n",
       "      <td>552.000000</td>\n",
       "      <td>552.000000</td>\n",
       "      <td>5.520000e+02</td>\n",
       "    </tr>\n",
       "    <tr>\n",
       "      <th>mean</th>\n",
       "      <td>19.320743</td>\n",
       "      <td>8.972554</td>\n",
       "      <td>52.96183</td>\n",
       "      <td>76.313406</td>\n",
       "      <td>53.958333</td>\n",
       "      <td>7.507917</td>\n",
       "      <td>1.607304e+09</td>\n",
       "    </tr>\n",
       "    <tr>\n",
       "      <th>std</th>\n",
       "      <td>33.174169</td>\n",
       "      <td>89.031131</td>\n",
       "      <td>26.60629</td>\n",
       "      <td>18.886075</td>\n",
       "      <td>41.020247</td>\n",
       "      <td>5.331742</td>\n",
       "      <td>3.106350e+02</td>\n",
       "    </tr>\n",
       "    <tr>\n",
       "      <th>min</th>\n",
       "      <td>-54.800000</td>\n",
       "      <td>-179.170000</td>\n",
       "      <td>-27.94000</td>\n",
       "      <td>13.000000</td>\n",
       "      <td>0.000000</td>\n",
       "      <td>0.070000</td>\n",
       "      <td>1.607304e+09</td>\n",
       "    </tr>\n",
       "    <tr>\n",
       "      <th>25%</th>\n",
       "      <td>-8.522500</td>\n",
       "      <td>-67.057500</td>\n",
       "      <td>33.80000</td>\n",
       "      <td>68.000000</td>\n",
       "      <td>4.750000</td>\n",
       "      <td>3.360000</td>\n",
       "      <td>1.607304e+09</td>\n",
       "    </tr>\n",
       "    <tr>\n",
       "      <th>50%</th>\n",
       "      <td>22.705000</td>\n",
       "      <td>14.835000</td>\n",
       "      <td>59.72000</td>\n",
       "      <td>82.000000</td>\n",
       "      <td>69.500000</td>\n",
       "      <td>6.550000</td>\n",
       "      <td>1.607304e+09</td>\n",
       "    </tr>\n",
       "    <tr>\n",
       "      <th>75%</th>\n",
       "      <td>47.270000</td>\n",
       "      <td>81.655000</td>\n",
       "      <td>75.20000</td>\n",
       "      <td>90.000000</td>\n",
       "      <td>95.000000</td>\n",
       "      <td>10.290000</td>\n",
       "      <td>1.607305e+09</td>\n",
       "    </tr>\n",
       "    <tr>\n",
       "      <th>max</th>\n",
       "      <td>78.220000</td>\n",
       "      <td>178.420000</td>\n",
       "      <td>93.20000</td>\n",
       "      <td>100.000000</td>\n",
       "      <td>100.000000</td>\n",
       "      <td>33.170000</td>\n",
       "      <td>1.607305e+09</td>\n",
       "    </tr>\n",
       "  </tbody>\n",
       "</table>\n",
       "</div>"
      ],
      "text/plain": [
       "              Lat         Lng  Max Temp(F)    Humidity  Cloudiness  \\\n",
       "count  552.000000  552.000000    552.00000  552.000000  552.000000   \n",
       "mean    19.320743    8.972554     52.96183   76.313406   53.958333   \n",
       "std     33.174169   89.031131     26.60629   18.886075   41.020247   \n",
       "min    -54.800000 -179.170000    -27.94000   13.000000    0.000000   \n",
       "25%     -8.522500  -67.057500     33.80000   68.000000    4.750000   \n",
       "50%     22.705000   14.835000     59.72000   82.000000   69.500000   \n",
       "75%     47.270000   81.655000     75.20000   90.000000   95.000000   \n",
       "max     78.220000  178.420000     93.20000  100.000000  100.000000   \n",
       "\n",
       "       Wind Speed          Date  \n",
       "count  552.000000  5.520000e+02  \n",
       "mean     7.507917  1.607304e+09  \n",
       "std      5.331742  3.106350e+02  \n",
       "min      0.070000  1.607304e+09  \n",
       "25%      3.360000  1.607304e+09  \n",
       "50%      6.550000  1.607304e+09  \n",
       "75%     10.290000  1.607305e+09  \n",
       "max     33.170000  1.607305e+09  "
      ]
     },
     "execution_count": 249,
     "metadata": {},
     "output_type": "execute_result"
    }
   ],
   "source": [
    "# Use describe to display a statistical overview of the dataframe\n",
    "city_df.describe()"
   ]
  },
  {
   "cell_type": "markdown",
   "metadata": {},
   "source": [
    "## Inspect the data and remove the cities where the humidity > 100%.\n",
    "----\n",
    "Skip this step if there are no cities that have humidity > 100%. "
   ]
  },
  {
   "cell_type": "code",
   "execution_count": 250,
   "metadata": {},
   "outputs": [],
   "source": [
    "# Check if there are cities where the humidity > 100%\n",
    "# city_df.drop(city_df.index[city_df['Humidity'] >100], inplace = True)\n",
    "# city_df.head()"
   ]
  },
  {
   "cell_type": "code",
   "execution_count": 251,
   "metadata": {},
   "outputs": [],
   "source": [
    "#  Get the indices of cities that have humidity over 100%.\n"
   ]
  },
  {
   "cell_type": "code",
   "execution_count": 252,
   "metadata": {},
   "outputs": [],
   "source": [
    "# Make a new DataFrame equal to the city data to drop all humidity outliers by index.\n",
    "# Passing \"inplace=False\" will make a copy of the city_data DataFrame, which we call \"clean_city_data\".\n"
   ]
  },
  {
   "cell_type": "markdown",
   "metadata": {},
   "source": [
    "## Plotting the Data\n",
    "* Use proper labeling of the plots using plot titles (including date of analysis) and axes labels.\n",
    "* Save the plotted figures as .pngs."
   ]
  },
  {
   "cell_type": "markdown",
   "metadata": {},
   "source": [
    "## Latitude vs. Temperature Plot"
   ]
  },
  {
   "cell_type": "code",
   "execution_count": 253,
   "metadata": {},
   "outputs": [
    {
     "data": {
      "image/png": "[encoded data removed]",
      "text/plain": [
       "<Figure size 432x288 with 1 Axes>"
      ]
     },
     "metadata": {
      "needs_background": "light"
     },
     "output_type": "display_data"
    }
   ],
   "source": [
    "#We are using the city data to extract the values and do the conparison\n",
    "x_values = city_df['Lat']\n",
    "y_values = city_df['Max Temp(F)']\n",
    "plt.scatter(x_values,y_values,facecolors=\"teal\", edgecolors=\"black\")\n",
    "plt.title('City Latitude vs. Max Temperature (12/6/20)',fontsize = 12)\n",
    "plt.xlabel('Latitude')\n",
    "plt.ylabel('Max Temperature (F)')\n",
    "plt.grid()\n",
    "plt.savefig(\"../output_data/figure_1.png\")\n",
    "plt.show()"
   ]
  },
  {
   "cell_type": "markdown",
   "metadata": {},
   "source": [
    "##### Analysis\n",
    "* The code analyses the correlation between city latitude and maximum temperature.From the plot we can see that at higher temperatures, Latitudes tend to have negative values \n",
    "* The plot proves that as we generally move away from the equator, temperature drops."
   ]
  },
  {
   "cell_type": "markdown",
   "metadata": {},
   "source": [
    "## Latitude vs. Humidity Plot"
   ]
  },
  {
   "cell_type": "code",
   "execution_count": 254,
   "metadata": {},
   "outputs": [
    {
     "data": {
      "image/png": "[encoded data removed]",
      "text/plain": [
       "<Figure size 432x288 with 1 Axes>"
      ]
     },
     "metadata": {
      "needs_background": "light"
     },
     "output_type": "display_data"
    }
   ],
   "source": [
    "#We are using the city data to extract the values and do the conparison\n",
    "x_values = city_df['Lat']\n",
    "y_values = city_df['Humidity']\n",
    "plt.scatter(x_values,y_values,facecolors=\"teal\", edgecolors=\"black\")\n",
    "plt.title('City Latitude vs. Humidity (12/6/20)',fontsize = 12)\n",
    "plt.xlabel('Latitude')\n",
    "plt.ylabel('Humidity')\n",
    "plt.grid()\n",
    "plt.savefig(\"../output_data/figure_2.png\")\n",
    "plt.show()"
   ]
  },
  {
   "cell_type": "markdown",
   "metadata": {},
   "source": [
    "##### Analysis\n",
    "* The plot above analyses the correlation between  latitude and humidity, Polar regions have lower humidity and as latitude gets higher,humidity gets higher in southern hemisphere.\n"
   ]
  },
  {
   "cell_type": "markdown",
   "metadata": {},
   "source": [
    "## Latitude vs. Cloudiness Plot"
   ]
  },
  {
   "cell_type": "code",
   "execution_count": 255,
   "metadata": {},
   "outputs": [
    {
     "data": {
      "image/png": "[encoded data removed]",
      "text/plain": [
       "<Figure size 432x288 with 1 Axes>"
      ]
     },
     "metadata": {
      "needs_background": "light"
     },
     "output_type": "display_data"
    }
   ],
   "source": [
    "#We are using the city data to extract the values and do the conparison\n",
    "x_values = city_df['Lat']\n",
    "y_values = city_df['Cloudiness']\n",
    "plt.scatter(x_values,y_values,facecolors=\"teal\", edgecolors=\"black\")\n",
    "plt.title('City Latitude vs. Cloudines (12/6/20)',fontsize = 12)\n",
    "plt.xlabel('Latitude')\n",
    "plt.ylabel('Cloudiness ')\n",
    "plt.grid()\n",
    "plt.savefig(\"../output_data/figure_3.png\")\n",
    "plt.show()"
   ]
  },
  {
   "cell_type": "markdown",
   "metadata": {},
   "source": [
    "##### Analysis\n",
    "* The plot shows that there is no real pattern that can describe the correlation between latitude and cloudiness, the data is widely spread"
   ]
  },
  {
   "cell_type": "markdown",
   "metadata": {},
   "source": [
    "## Latitude vs. Wind Speed Plot"
   ]
  },
  {
   "cell_type": "code",
   "execution_count": 256,
   "metadata": {},
   "outputs": [
    {
     "data": {
      "image/png": "[encoded data removed]",
      "text/plain": [
       "<Figure size 432x288 with 1 Axes>"
      ]
     },
     "metadata": {
      "needs_background": "light"
     },
     "output_type": "display_data"
    }
   ],
   "source": [
    "#We are using the city data to extract the values and do the conparison\n",
    "x_values = city_df['Lat']\n",
    "y_values = city_df['Wind Speed']\n",
    "plt.scatter(x_values,y_values,facecolors=\"teal\", edgecolors=\"black\")\n",
    "plt.title('City Latitude vs. Wind Speed (12/6/20)',fontsize = 12)\n",
    "plt.xlabel('Latitude')\n",
    "plt.ylabel('Wind Speed (mph)')\n",
    "plt.grid()\n",
    "plt.savefig(\"../output_data/figure_4.png\")\n",
    "plt.show()"
   ]
  },
  {
   "cell_type": "markdown",
   "metadata": {},
   "source": [
    "##### Analysis\n",
    "* The plot shows that there is no real pattern that can describe the correlation between latitude and windspeed, data is widely spread"
   ]
  },
  {
   "cell_type": "markdown",
   "metadata": {},
   "source": [
    "## Linear Regression"
   ]
  },
  {
   "cell_type": "code",
   "execution_count": 257,
   "metadata": {},
   "outputs": [
    {
     "data": {
      "text/html": [
       "<div>\n",
       "<style scoped>\n",
       "    .dataframe tbody tr th:only-of-type {\n",
       "        vertical-align: middle;\n",
       "    }\n",
       "\n",
       "    .dataframe tbody tr th {\n",
       "        vertical-align: top;\n",
       "    }\n",
       "\n",
       "    .dataframe thead th {\n",
       "        text-align: right;\n",
       "    }\n",
       "</style>\n",
       "<table border=\"1\" class=\"dataframe\">\n",
       "  <thead>\n",
       "    <tr style=\"text-align: right;\">\n",
       "      <th></th>\n",
       "      <th>City</th>\n",
       "      <th>Lat</th>\n",
       "      <th>Lng</th>\n",
       "      <th>Max Temp(F)</th>\n",
       "      <th>Humidity</th>\n",
       "      <th>Cloudiness</th>\n",
       "      <th>Wind Speed</th>\n",
       "      <th>Country</th>\n",
       "      <th>Date</th>\n",
       "    </tr>\n",
       "  </thead>\n",
       "  <tbody>\n",
       "    <tr>\n",
       "      <th>0</th>\n",
       "      <td>Hilo</td>\n",
       "      <td>19.73</td>\n",
       "      <td>-155.09</td>\n",
       "      <td>84.20</td>\n",
       "      <td>58</td>\n",
       "      <td>1</td>\n",
       "      <td>11.41</td>\n",
       "      <td>US</td>\n",
       "      <td>1607303597</td>\n",
       "    </tr>\n",
       "    <tr>\n",
       "      <th>1</th>\n",
       "      <td>Glendive</td>\n",
       "      <td>47.11</td>\n",
       "      <td>-104.71</td>\n",
       "      <td>36.00</td>\n",
       "      <td>66</td>\n",
       "      <td>1</td>\n",
       "      <td>9.17</td>\n",
       "      <td>US</td>\n",
       "      <td>1607304253</td>\n",
       "    </tr>\n",
       "    <tr>\n",
       "      <th>3</th>\n",
       "      <td>Norman Wells</td>\n",
       "      <td>65.28</td>\n",
       "      <td>-126.83</td>\n",
       "      <td>1.40</td>\n",
       "      <td>84</td>\n",
       "      <td>90</td>\n",
       "      <td>3.36</td>\n",
       "      <td>CA</td>\n",
       "      <td>1607304161</td>\n",
       "    </tr>\n",
       "    <tr>\n",
       "      <th>5</th>\n",
       "      <td>Clyde River</td>\n",
       "      <td>70.47</td>\n",
       "      <td>-68.59</td>\n",
       "      <td>3.20</td>\n",
       "      <td>91</td>\n",
       "      <td>90</td>\n",
       "      <td>2.24</td>\n",
       "      <td>CA</td>\n",
       "      <td>1607303881</td>\n",
       "    </tr>\n",
       "    <tr>\n",
       "      <th>6</th>\n",
       "      <td>Channel-Port aux Basques</td>\n",
       "      <td>47.57</td>\n",
       "      <td>-59.14</td>\n",
       "      <td>43.93</td>\n",
       "      <td>87</td>\n",
       "      <td>100</td>\n",
       "      <td>15.77</td>\n",
       "      <td>CA</td>\n",
       "      <td>1607304258</td>\n",
       "    </tr>\n",
       "  </tbody>\n",
       "</table>\n",
       "</div>"
      ],
      "text/plain": [
       "                       City    Lat     Lng  Max Temp(F)  Humidity  Cloudiness  \\\n",
       "0                      Hilo  19.73 -155.09        84.20        58           1   \n",
       "1                  Glendive  47.11 -104.71        36.00        66           1   \n",
       "3              Norman Wells  65.28 -126.83         1.40        84          90   \n",
       "5               Clyde River  70.47  -68.59         3.20        91          90   \n",
       "6  Channel-Port aux Basques  47.57  -59.14        43.93        87         100   \n",
       "\n",
       "   Wind Speed Country        Date  \n",
       "0       11.41      US  1607303597  \n",
       "1        9.17      US  1607304253  \n",
       "3        3.36      CA  1607304161  \n",
       "5        2.24      CA  1607303881  \n",
       "6       15.77      CA  1607304258  "
      ]
     },
     "execution_count": 257,
     "metadata": {},
     "output_type": "execute_result"
    }
   ],
   "source": [
    "#Extacst latitude values from existing dataframe and save results as new dataframe to use for plotting\n",
    "\n",
    "#Northern Latitude\n",
    "north_lat = city_df.loc[city_df['Lat'] >=0]\n",
    "\n",
    "north_df = pd.DataFrame(north_lat )\n",
    "north_df.head()"
   ]
  },
  {
   "cell_type": "code",
   "execution_count": 258,
   "metadata": {},
   "outputs": [
    {
     "data": {
      "text/html": [
       "<div>\n",
       "<style scoped>\n",
       "    .dataframe tbody tr th:only-of-type {\n",
       "        vertical-align: middle;\n",
       "    }\n",
       "\n",
       "    .dataframe tbody tr th {\n",
       "        vertical-align: top;\n",
       "    }\n",
       "\n",
       "    .dataframe thead th {\n",
       "        text-align: right;\n",
       "    }\n",
       "</style>\n",
       "<table border=\"1\" class=\"dataframe\">\n",
       "  <thead>\n",
       "    <tr style=\"text-align: right;\">\n",
       "      <th></th>\n",
       "      <th>City</th>\n",
       "      <th>Lat</th>\n",
       "      <th>Lng</th>\n",
       "      <th>Max Temp(F)</th>\n",
       "      <th>Humidity</th>\n",
       "      <th>Cloudiness</th>\n",
       "      <th>Wind Speed</th>\n",
       "      <th>Country</th>\n",
       "      <th>Date</th>\n",
       "    </tr>\n",
       "  </thead>\n",
       "  <tbody>\n",
       "    <tr>\n",
       "      <th>2</th>\n",
       "      <td>Puerto Ayora</td>\n",
       "      <td>-0.74</td>\n",
       "      <td>-90.35</td>\n",
       "      <td>72.00</td>\n",
       "      <td>91</td>\n",
       "      <td>72</td>\n",
       "      <td>3.00</td>\n",
       "      <td>EC</td>\n",
       "      <td>1607303963</td>\n",
       "    </tr>\n",
       "    <tr>\n",
       "      <th>4</th>\n",
       "      <td>Coquimbo</td>\n",
       "      <td>-29.95</td>\n",
       "      <td>-71.34</td>\n",
       "      <td>57.20</td>\n",
       "      <td>82</td>\n",
       "      <td>75</td>\n",
       "      <td>8.05</td>\n",
       "      <td>CL</td>\n",
       "      <td>1607303908</td>\n",
       "    </tr>\n",
       "    <tr>\n",
       "      <th>8</th>\n",
       "      <td>Formosa do Rio Preto</td>\n",
       "      <td>-11.05</td>\n",
       "      <td>-45.19</td>\n",
       "      <td>73.06</td>\n",
       "      <td>65</td>\n",
       "      <td>0</td>\n",
       "      <td>1.28</td>\n",
       "      <td>BR</td>\n",
       "      <td>1607304260</td>\n",
       "    </tr>\n",
       "    <tr>\n",
       "      <th>10</th>\n",
       "      <td>Ushuaia</td>\n",
       "      <td>-54.80</td>\n",
       "      <td>-68.30</td>\n",
       "      <td>50.00</td>\n",
       "      <td>93</td>\n",
       "      <td>75</td>\n",
       "      <td>9.17</td>\n",
       "      <td>AR</td>\n",
       "      <td>1607303876</td>\n",
       "    </tr>\n",
       "    <tr>\n",
       "      <th>12</th>\n",
       "      <td>Airai</td>\n",
       "      <td>-8.93</td>\n",
       "      <td>125.41</td>\n",
       "      <td>70.39</td>\n",
       "      <td>87</td>\n",
       "      <td>100</td>\n",
       "      <td>1.90</td>\n",
       "      <td>TL</td>\n",
       "      <td>1607303942</td>\n",
       "    </tr>\n",
       "  </tbody>\n",
       "</table>\n",
       "</div>"
      ],
      "text/plain": [
       "                    City    Lat     Lng  Max Temp(F)  Humidity  Cloudiness  \\\n",
       "2           Puerto Ayora  -0.74  -90.35        72.00        91          72   \n",
       "4               Coquimbo -29.95  -71.34        57.20        82          75   \n",
       "8   Formosa do Rio Preto -11.05  -45.19        73.06        65           0   \n",
       "10               Ushuaia -54.80  -68.30        50.00        93          75   \n",
       "12                 Airai  -8.93  125.41        70.39        87         100   \n",
       "\n",
       "    Wind Speed Country        Date  \n",
       "2         3.00      EC  1607303963  \n",
       "4         8.05      CL  1607303908  \n",
       "8         1.28      BR  1607304260  \n",
       "10        9.17      AR  1607303876  \n",
       "12        1.90      TL  1607303942  "
      ]
     },
     "execution_count": 258,
     "metadata": {},
     "output_type": "execute_result"
    }
   ],
   "source": [
    "#Extacst latitude values from existing dataframe and save results as new dataframe to use for plotting\n",
    "\n",
    "#Southern Latitude\n",
    "south_lat = city_df.loc[city_df['Lat'] < 0]\n",
    "\n",
    "south_df = pd.DataFrame(south_lat)\n",
    "south_df.head()"
   ]
  },
  {
   "cell_type": "markdown",
   "metadata": {},
   "source": [
    "####  Northern Hemisphere - Max Temp vs. Latitude Linear Regression"
   ]
  },
  {
   "cell_type": "code",
   "execution_count": 271,
   "metadata": {},
   "outputs": [
    {
     "name": "stdout",
     "output_type": "stream",
     "text": [
      "The r-squared is: 0.7339921740113504\n"
     ]
    },
    {
     "data": {
      "image/png": "[encoded data removed]",
      "text/plain": [
       "<Figure size 432x288 with 1 Axes>"
      ]
     },
     "metadata": {
      "needs_background": "light"
     },
     "output_type": "display_data"
    }
   ],
   "source": [
    "#Linear regression model\n",
    "# Add the linear regression equation and line to plot\n",
    "x_values = north_df['Lat']\n",
    "y_values = north_df['Max Temp(F)']\n",
    "\n",
    "# Run linear regression\n",
    "(slope, intercept, rvalue, pvalue, stderr) = linregress(x_values, y_values)\n",
    "regress_values = x_values * slope + intercept\n",
    "line_eq = \"y = \" + str(round(slope,2)) + \"x + \" + str(round(intercept,2))\n",
    "\n",
    "# Plot scatter plot\n",
    "plt.scatter(x_values,y_values,color=\"teal\")\n",
    "\n",
    "# Plot regression line\n",
    "plt.plot(x_values,regress_values,\"r-\")\n",
    "plt.annotate(line_eq,(6,10),fontsize=15,color=\"red\")\n",
    "\n",
    "\n",
    "# Label plot\n",
    "plt.title('Northern Hemisphere - Max Temp vs. Latitude Linear Regression',fontsize = 10)\n",
    "plt.xlabel('Latitude')\n",
    "plt.ylabel('Max Temperature (F)')\n",
    "\n",
    "# Print r square value\n",
    "print(f\"The r-squared is: {rvalue**2}\")\n",
    "plt.savefig(\"../output_data/figure_5.png\")\n",
    "\n",
    "# Show plot\n",
    "plt.show()"
   ]
  },
  {
   "cell_type": "markdown",
   "metadata": {},
   "source": [
    "##### Analysis\n",
    "* The plot shows that in the nothern hemisphere, as you move away from the equator the temperature decreases\n",
    "* In additon, the regression displaysa strong correlation between the data extracted for the analysis "
   ]
  },
  {
   "cell_type": "markdown",
   "metadata": {},
   "source": [
    "####  Southern Hemisphere - Max Temp vs. Latitude Linear Regression"
   ]
  },
  {
   "cell_type": "code",
   "execution_count": 268,
   "metadata": {},
   "outputs": [
    {
     "name": "stdout",
     "output_type": "stream",
     "text": [
      "The r-squared is: 0.24766433753582137\n"
     ]
    },
    {
     "data": {
      "image/png": "[encoded data removed]",
      "text/plain": [
       "<Figure size 432x288 with 1 Axes>"
      ]
     },
     "metadata": {
      "needs_background": "light"
     },
     "output_type": "display_data"
    }
   ],
   "source": [
    "#Linear regression model\n",
    "# Add the linear regression equation and line to plot\n",
    "x_values = south_df['Lat']\n",
    "y_values = south_df['Max Temp(F)']\n",
    "\n",
    "# Run linear regression\n",
    "(slope, intercept, rvalue, pvalue, stderr) = linregress(x_values, y_values)\n",
    "regress_values = x_values * slope + intercept\n",
    "line_eq = \"y = \" + str(round(slope,2)) + \"x + \" + str(round(intercept,2))\n",
    "\n",
    "# Plot scatter plot\n",
    "plt.scatter(x_values,y_values,color=\"teal\")\n",
    "\n",
    "# Plot regression line\n",
    "plt.plot(x_values,regress_values,\"r-\")\n",
    "plt.annotate(line_eq,(-50,80),fontsize=15,color=\"red\")\n",
    "\n",
    "\n",
    "# Label plot\n",
    "plt.title('Southern Hemisphere - Max Temp vs. Latitude Linear Regression',fontsize = 10)\n",
    "plt.xlabel('Latitude')\n",
    "plt.ylabel('Max Temperature (F)')\n",
    "\n",
    "# Print r square value\n",
    "print(f\"The r-squared is: {rvalue**2}\")\n",
    "plt.savefig(\"../output_data/figure_6.png\")\n",
    "\n",
    "# Show plot\n",
    "plt.show()\n"
   ]
  },
  {
   "cell_type": "code",
   "execution_count": null,
   "metadata": {},
   "outputs": [],
   "source": []
  },
  {
   "cell_type": "markdown",
   "metadata": {},
   "source": [
    "##### Analysis\n",
    "* The plot shows that in the southern hemisphere, as you get closer to the equator the temperature increases.\n",
    "* In additon, the regression displays a weak positive correlation between the data extacted for the analysis"
   ]
  },
  {
   "cell_type": "markdown",
   "metadata": {},
   "source": [
    "####  Northern Hemisphere - Humidity (%) vs. Latitude Linear Regression"
   ]
  },
  {
   "cell_type": "code",
   "execution_count": 261,
   "metadata": {},
   "outputs": [
    {
     "name": "stdout",
     "output_type": "stream",
     "text": [
      "The r-squared is: 0.06521823855076224\n"
     ]
    },
    {
     "data": {
      "image/png": "[encoded data removed]",
      "text/plain": [
       "<Figure size 432x288 with 1 Axes>"
      ]
     },
     "metadata": {
      "needs_background": "light"
     },
     "output_type": "display_data"
    }
   ],
   "source": [
    "#Linear regression model\n",
    "# Add the linear regression equation and line to plot\n",
    "x_values = north_df['Lat']\n",
    "y_values = north_df['Humidity']\n",
    "\n",
    "# Run linear regression\n",
    "(slope, intercept, rvalue, pvalue, stderr) = linregress(x_values, y_values)\n",
    "regress_values = x_values * slope + intercept\n",
    "line_eq = \"y = \" + str(round(slope,2)) + \"x + \" + str(round(intercept,2))\n",
    "\n",
    "# Plot scatter plot\n",
    "plt.scatter(x_values,y_values,color=\"teal\")\n",
    "\n",
    "# Plot regression line\n",
    "plt.plot(x_values,regress_values,\"r-\")\n",
    "plt.annotate(line_eq,(40,20),fontsize=15,color=\"red\")\n",
    "\n",
    "\n",
    "# Label plot\n",
    "plt.title('Northern Hemisphere - Humidity (%) vs. Latitude Linear Regression',fontsize = 10)\n",
    "plt.xlabel('Latitude')\n",
    "plt.ylabel('Humidity')\n",
    "\n",
    "# Print r square value\n",
    "print(f\"The r-squared is: {rvalue**2}\")\n",
    "plt.savefig(\"../output_data/figure_7.png\")\n",
    "\n",
    "# Show plot\n",
    "plt.show()"
   ]
  },
  {
   "cell_type": "markdown",
   "metadata": {},
   "source": [
    "##### Analysis\n",
    "* The regression does not displays much of a correation between humidity and latitude"
   ]
  },
  {
   "cell_type": "markdown",
   "metadata": {},
   "source": [
    "####  Southern Hemisphere - Humidity (%) vs. Latitude Linear Regression"
   ]
  },
  {
   "cell_type": "code",
   "execution_count": 262,
   "metadata": {},
   "outputs": [
    {
     "name": "stdout",
     "output_type": "stream",
     "text": [
      "The r-squared is: 0.07945566863936919\n"
     ]
    },
    {
     "data": {
      "image/png": "[encoded data removed]",
      "text/plain": [
       "<Figure size 432x288 with 1 Axes>"
      ]
     },
     "metadata": {
      "needs_background": "light"
     },
     "output_type": "display_data"
    }
   ],
   "source": [
    "#Linear regression model\n",
    "# Add the linear regression equation and line to plot\n",
    "x_values = south_df['Lat']\n",
    "y_values = south_df['Humidity']\n",
    "\n",
    "# Run linear regression\n",
    "(slope, intercept, rvalue, pvalue, stderr) = linregress(x_values, y_values)\n",
    "regress_values = x_values * slope + intercept\n",
    "line_eq = \"y = \" + str(round(slope,2)) + \"x + \" + str(round(intercept,2))\n",
    "\n",
    "# Plot scatter plot\n",
    "plt.scatter(x_values,y_values,color=\"teal\")\n",
    "\n",
    "# Plot regression line\n",
    "plt.plot(x_values,regress_values,\"r-\")\n",
    "plt.annotate(line_eq,(-40,20),fontsize=15,color=\"red\")\n",
    "\n",
    "\n",
    "# Label plot\n",
    "plt.title('Southern Hemisphere - Humidity (%) vs. Latitude Linear Regression',fontsize = 10)\n",
    "plt.xlabel('Latitude')\n",
    "plt.ylabel('Humidity')\n",
    "\n",
    "# Print r square value\n",
    "print(f\"The r-squared is: {rvalue**2}\")\n",
    "plt.savefig(\"../output_data/figure_8.png\")\n",
    "\n",
    "# Show plot\n",
    "plt.show()\n"
   ]
  },
  {
   "cell_type": "markdown",
   "metadata": {},
   "source": [
    "##### Analysis\n",
    "* The regression does not display much of a correlation between the data sets"
   ]
  },
  {
   "cell_type": "markdown",
   "metadata": {},
   "source": [
    "####  Northern Hemisphere - Cloudiness (%) vs. Latitude Linear Regression"
   ]
  },
  {
   "cell_type": "code",
   "execution_count": 263,
   "metadata": {},
   "outputs": [
    {
     "name": "stdout",
     "output_type": "stream",
     "text": [
      "The r-squared is: 0.05697705900301407\n"
     ]
    },
    {
     "data": {
      "image/png": "[encoded data removed]",
      "text/plain": [
       "<Figure size 432x288 with 1 Axes>"
      ]
     },
     "metadata": {
      "needs_background": "light"
     },
     "output_type": "display_data"
    }
   ],
   "source": [
    "#Linear regression model\n",
    "# Add the linear regression equation and line to plot\n",
    "x_values = north_df['Lat']\n",
    "y_values = north_df['Cloudiness']\n",
    "\n",
    "# Run linear regression\n",
    "(slope, intercept, rvalue, pvalue, stderr) = linregress(x_values, y_values)\n",
    "regress_values = x_values * slope + intercept\n",
    "line_eq = \"y = \" + str(round(slope,2)) + \"x + \" + str(round(intercept,2))\n",
    "\n",
    "# Plot scatter plot\n",
    "plt.scatter(x_values,y_values,color=\"teal\")\n",
    "\n",
    "# Plot regression line\n",
    "plt.plot(x_values,regress_values,\"r-\")\n",
    "plt.annotate(line_eq,(40,20),fontsize=15,color=\"red\")\n",
    "\n",
    "\n",
    "# Label plot\n",
    "plt.title('Northern Hemisphere - Cloudiness (%) vs. Latitude Linear Regression',fontsize = 10)\n",
    "plt.xlabel('Latitude')\n",
    "plt.ylabel('Cloudiness')\n",
    "\n",
    "# Print r square value\n",
    "print(f\"The r-squared is: {rvalue**2}\")\n",
    "plt.savefig(\"../output_data/figure_9.png\")\n",
    "\n",
    "# Show plot\n",
    "plt.show()"
   ]
  },
  {
   "cell_type": "markdown",
   "metadata": {},
   "source": [
    "##### Analysis\n",
    "* The regression does not display much of a correlation between the data sets."
   ]
  },
  {
   "cell_type": "markdown",
   "metadata": {},
   "source": [
    "####  Southern Hemisphere - Cloudiness (%) vs. Latitude Linear Regression"
   ]
  },
  {
   "cell_type": "code",
   "execution_count": 264,
   "metadata": {},
   "outputs": [
    {
     "name": "stdout",
     "output_type": "stream",
     "text": [
      "The r-squared is: 0.020963876879247494\n"
     ]
    },
    {
     "data": {
      "image/png": "[encoded data removed]",
      "text/plain": [
       "<Figure size 432x288 with 1 Axes>"
      ]
     },
     "metadata": {
      "needs_background": "light"
     },
     "output_type": "display_data"
    }
   ],
   "source": [
    "#Linear regression model\n",
    "# Add the linear regression equation and line to plot\n",
    "x_values = south_df['Lat']\n",
    "y_values = south_df['Cloudiness']\n",
    "\n",
    "# Run linear regression\n",
    "(slope, intercept, rvalue, pvalue, stderr) = linregress(x_values, y_values)\n",
    "regress_values = x_values * slope + intercept\n",
    "line_eq = \"y = \" + str(round(slope,2)) + \"x + \" + str(round(intercept,2))\n",
    "\n",
    "# Plot scatter plot\n",
    "plt.scatter(x_values,y_values,color=\"teal\")\n",
    "\n",
    "# Plot regression line\n",
    "plt.plot(x_values,regress_values,\"r-\")\n",
    "plt.annotate(line_eq,(-40,20),fontsize=15,color=\"red\")\n",
    "\n",
    "\n",
    "# Label plot\n",
    "plt.title('Southern Hemisphere - Cloudiness (%) vs. Latitude Linear Regression',fontsize = 10)\n",
    "plt.xlabel('Latitude')\n",
    "plt.ylabel('Cloudiness')\n",
    "\n",
    "# Print r square value\n",
    "print(f\"The r-squared is: {rvalue**2}\")\n",
    "plt.savefig(\"../output_data/figure_10.png\")\n",
    "\n",
    "# Show plot\n",
    "plt.show()"
   ]
  },
  {
   "cell_type": "markdown",
   "metadata": {},
   "source": [
    "##### Analysis\n",
    "* There is a weak positive correlation between latitude and cloudiness for southern hemisphere."
   ]
  },
  {
   "cell_type": "markdown",
   "metadata": {},
   "source": [
    "####  Northern Hemisphere - Wind Speed (mph) vs. Latitude Linear Regression"
   ]
  },
  {
   "cell_type": "code",
   "execution_count": 265,
   "metadata": {},
   "outputs": [
    {
     "name": "stdout",
     "output_type": "stream",
     "text": [
      "The r-squared is: 0.03534686407223714\n"
     ]
    },
    {
     "data": {
      "image/png": "[encoded data removed]",
      "text/plain": [
       "<Figure size 432x288 with 1 Axes>"
      ]
     },
     "metadata": {
      "needs_background": "light"
     },
     "output_type": "display_data"
    }
   ],
   "source": [
    "#Linear regression model\n",
    "# Add the linear regression equation and line to plot\n",
    "x_values = north_df['Lat']\n",
    "y_values = north_df['Wind Speed']\n",
    "\n",
    "# Run linear regression\n",
    "(slope, intercept, rvalue, pvalue, stderr) = linregress(x_values, y_values)\n",
    "regress_values = x_values * slope + intercept\n",
    "line_eq = \"y = \" + str(round(slope,2)) + \"x + \" + str(round(intercept,2))\n",
    "\n",
    "# Plot scatter plot\n",
    "plt.scatter(x_values,y_values,color=\"teal\")\n",
    "\n",
    "# Plot regression line\n",
    "plt.plot(x_values,regress_values,\"r-\")\n",
    "plt.annotate(line_eq,(20,30),fontsize=15,color=\"red\")\n",
    "\n",
    "\n",
    "# Label plot\n",
    "plt.title('Northern Hemisphere - Wind Speed (mph) vs. Latitude Linear Regression',fontsize = 10)\n",
    "plt.xlabel('Latitude')\n",
    "plt.ylabel('Wind Speed(mph)')\n",
    "\n",
    "# Print r square value\n",
    "print(f\"The r-squared is: {rvalue**2}\")\n",
    "plt.savefig(\"../output_data/figure_11.png\")\n",
    "\n",
    "# Show plot\n",
    "plt.show()"
   ]
  },
  {
   "cell_type": "markdown",
   "metadata": {},
   "source": [
    "##### Analysis\n",
    "* The regression does not display much of a correlation between the data sets."
   ]
  },
  {
   "cell_type": "markdown",
   "metadata": {},
   "source": [
    "####  Southern Hemisphere - Wind Speed (mph) vs. Latitude Linear Regression"
   ]
  },
  {
   "cell_type": "code",
   "execution_count": 266,
   "metadata": {},
   "outputs": [
    {
     "name": "stdout",
     "output_type": "stream",
     "text": [
      "The r-squared is: 0.10181366849040996\n"
     ]
    },
    {
     "data": {
      "image/png": "[encoded data removed]",
      "text/plain": [
       "<Figure size 432x288 with 1 Axes>"
      ]
     },
     "metadata": {
      "needs_background": "light"
     },
     "output_type": "display_data"
    }
   ],
   "source": [
    "#Linear regression model\n",
    "# Add the linear regression equation and line to plot\n",
    "x_values = south_df['Lat']\n",
    "y_values = south_df['Wind Speed']\n",
    "\n",
    "# Run linear regression\n",
    "(slope, intercept, rvalue, pvalue, stderr) = linregress(x_values, y_values)\n",
    "regress_values = x_values * slope + intercept\n",
    "line_eq = \"y = \" + str(round(slope,2)) + \"x + \" + str(round(intercept,2))\n",
    "\n",
    "# Plot scatter plot\n",
    "plt.scatter(x_values,y_values,color=\"teal\")\n",
    "\n",
    "# Plot regression line\n",
    "plt.plot(x_values,regress_values,\"r-\")\n",
    "plt.annotate(line_eq,(-50,25),fontsize=15,color=\"red\")\n",
    "\n",
    "\n",
    "# Label plot\n",
    "plt.title('Southern Hemisphere - Wind Speed (mph) vs. Latitude Linear Regression',fontsize = 10)\n",
    "plt.xlabel('Latitude')\n",
    "plt.ylabel('Wind Speed')\n",
    "\n",
    "# Print r square value\n",
    "print(f\"The r-squared is: {rvalue**2}\")\n",
    "plt.savefig(\"../output_data/figure_12.png\")\n",
    "\n",
    "# Show plot\n",
    "plt.show()"
   ]
  },
  {
   "cell_type": "markdown",
   "metadata": {},
   "source": [
    "##### Analysis\n",
    "* The regression does not display much of a correlation between the data sets."
   ]
  }
 ],
 "metadata": {
  "anaconda-cloud": {},
  "kernel_info": {
   "name": "python3"
  },
  "kernelspec": {
   "display_name": "PythonData2",
   "language": "python",
   "name": "pythondata2"
  },
  "language_info": {
   "codemirror_mode": {
    "name": "ipython",
    "version": 3
   },
   "file_extension": ".py",
   "mimetype": "text/x-python",
   "name": "python",
   "nbconvert_exporter": "python",
   "pygments_lexer": "ipython3",
   "version": "3.8.3"
  },
  "latex_envs": {
   "LaTeX_envs_menu_present": true,
   "autoclose": false,
   "autocomplete": true,
   "bibliofile": "biblio.bib",
   "cite_by": "apalike",
   "current_citInitial": 1,
   "eqLabelWithNumbers": true,
   "eqNumInitial": 1,
   "hotkeys": {
    "equation": "Ctrl-E",
    "itemize": "Ctrl-I"
   },
   "labels_anchors": false,
   "latex_user_defs": false,
   "report_style_numbering": false,
   "user_envs_cfg": false
  },
  "nteract": {
   "version": "0.12.3"
  }
 },
 "nbformat": 4,
 "nbformat_minor": 2
}
